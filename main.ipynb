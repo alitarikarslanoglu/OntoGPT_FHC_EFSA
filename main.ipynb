{
 "cells": [
  {
   "cell_type": "code",
   "execution_count": 4,
   "metadata": {},
   "outputs": [],
   "source": [
    "import subprocess\n",
    "import pandas as pd\n",
    "import re\n",
    "import datetime\n",
    "import json\n",
    "import shutil\n",
    "import os\n",
    "import textract"
   ]
  },
  {
   "cell_type": "code",
   "execution_count": 12,
   "metadata": {},
   "outputs": [
    {
     "name": "stdout",
     "output_type": "stream",
     "text": [
      "Processing directory: /Users/AliTarik/Documents/EFSA_DOCUMENTATION/2010_1759/claims\n",
      "Created Output file: /Users/AliTarik/Documents/EFSA_DOCUMENTATION/2010_1759/claims/Contribution_to_normal_homocysteine_metabolism_(ID_73,_76,_199).ttl\n",
      "Processing file: /Users/AliTarik/Documents/EFSA_DOCUMENTATION/2010_1759/claims/Contribution_to_normal_homocysteine_metabolism_(ID_73,_76,_199).txt\n",
      "Running command: ontogpt extract -t ClaimAnalysis.FoodHealthClaim -i /Users/AliTarik/Documents/EFSA_DOCUMENTATION/2010_1759/claims/Contribution_to_normal_homocysteine_metabolism_(ID_73,_76,_199).txt --model gpt-4-turbo -o /Users/AliTarik/Documents/EFSA_DOCUMENTATION/2010_1759/claims/Contribution_to_normal_homocysteine_metabolism_(ID_73,_76,_199).ttl --output-format turtle\n"
     ]
    },
    {
     "name": "stderr",
     "output_type": "stream",
     "text": [
      "ERROR:root:Cannot find slot for based_on_the_provided_text_snippet,_it_appears_that_there_is_no_specific_dosage_information_mentioned_related_to_numerical_values_or_units._therefore,_the_extraction_would_be in Based on the provided text snippet, it appears that there is no specific dosage information mentioned related to numerical values or units. Therefore, the extraction would be:\n",
      "ERROR:ontogpt.engines.knowledge_engine:Error with SqlImplementation(resource=OntologyResource(slug='obo:dron', directory=None, scheme='sqlite', format=None, url=None, readonly=False, provider=None, local=False, in_memory=False, data=None, implementation_class=<class 'oaklib.implementations.sqldb.sql_implementation.SqlImplementation'>, import_depth=None), strict=False, _multilingual=None, autosave=True, exclude_owl_top_and_bottom=True, ontology_metamodel_mapper=None, _converter=None, auto_relax_axioms=None, cache_lookups=False, property_cache=KeyValCache(cache={}), _edge_index=None, _entailed_edge_index=None, functional_writer=None, _association_index=None, normalizers=[], engine=Engine(sqlite:////Users/AliTarik/.data/oaklib/dron.db), _session=<sqlalchemy.orm.session.Session object at 0x1245f88e0>, _connection=None, _ontology_metadata_model=None, _prefix_map=None, _information_content_cache=None, _relationships_by_subject_index=None, max_items_for_in_clause=1000, can_store_associations=False) for Vitamin B6: (sqlite3.DatabaseError) database disk image is malformed\n",
      "[SQL: SELECT DISTINCT statements.subject AS statements_subject \n",
      "FROM statements \n",
      "WHERE statements.predicate IN (?) AND statements.value LIKE ?]\n",
      "[parameters: ('rdfs:label', 'Vitamin B6')]\n",
      "(Background on this error at: https://sqlalche.me/e/20/4xp6)\n"
     ]
    },
    {
     "name": "stdout",
     "output_type": "stream",
     "text": [
      "Created Output file: /Users/AliTarik/Documents/EFSA_DOCUMENTATION/2010_1759/claims/Maintenance_of_normal_teeth_(ID_74).ttl\n",
      "Processing file: /Users/AliTarik/Documents/EFSA_DOCUMENTATION/2010_1759/claims/Maintenance_of_normal_teeth_(ID_74).txt\n",
      "Running command: ontogpt extract -t ClaimAnalysis.FoodHealthClaim -i /Users/AliTarik/Documents/EFSA_DOCUMENTATION/2010_1759/claims/Maintenance_of_normal_teeth_(ID_74).txt --model gpt-4-turbo -o /Users/AliTarik/Documents/EFSA_DOCUMENTATION/2010_1759/claims/Maintenance_of_normal_teeth_(ID_74).ttl --output-format turtle\n"
     ]
    },
    {
     "name": "stderr",
     "output_type": "stream",
     "text": [
      "ERROR:ontogpt.engines.knowledge_engine:Error with SqlImplementation(resource=OntologyResource(slug='obo:dron', directory=None, scheme='sqlite', format=None, url=None, readonly=False, provider=None, local=False, in_memory=False, data=None, implementation_class=<class 'oaklib.implementations.sqldb.sql_implementation.SqlImplementation'>, import_depth=None), strict=False, _multilingual=None, autosave=True, exclude_owl_top_and_bottom=True, ontology_metamodel_mapper=None, _converter=None, auto_relax_axioms=None, cache_lookups=False, property_cache=KeyValCache(cache={}), _edge_index=None, _entailed_edge_index=None, functional_writer=None, _association_index=None, normalizers=[], engine=Engine(sqlite:////Users/AliTarik/.data/oaklib/dron.db), _session=<sqlalchemy.orm.session.Session object at 0x123e2d460>, _connection=None, _ontology_metadata_model=None, _prefix_map=None, _information_content_cache=None, _relationships_by_subject_index=None, max_items_for_in_clause=1000, can_store_associations=False) for Vitamin B6: (sqlite3.DatabaseError) database disk image is malformed\n",
      "[SQL: SELECT DISTINCT statements.subject AS statements_subject \n",
      "FROM statements \n",
      "WHERE statements.predicate IN (?) AND statements.value LIKE ?]\n",
      "[parameters: ('rdfs:label', 'Vitamin B6')]\n",
      "(Background on this error at: https://sqlalche.me/e/20/4xp6)\n"
     ]
    },
    {
     "name": "stdout",
     "output_type": "stream",
     "text": [
      "Created Output file: /Users/AliTarik/Documents/EFSA_DOCUMENTATION/2010_1759/claims/Contribution_to_normal_cysteine_synthesis_(ID_4283).ttl\n",
      "Processing file: /Users/AliTarik/Documents/EFSA_DOCUMENTATION/2010_1759/claims/Contribution_to_normal_cysteine_synthesis_(ID_4283).txt\n",
      "Running command: ontogpt extract -t ClaimAnalysis.FoodHealthClaim -i /Users/AliTarik/Documents/EFSA_DOCUMENTATION/2010_1759/claims/Contribution_to_normal_cysteine_synthesis_(ID_4283).txt --model gpt-4-turbo -o /Users/AliTarik/Documents/EFSA_DOCUMENTATION/2010_1759/claims/Contribution_to_normal_cysteine_synthesis_(ID_4283).ttl --output-format turtle\n"
     ]
    },
    {
     "name": "stderr",
     "output_type": "stream",
     "text": [
      "ERROR:ontogpt.engines.knowledge_engine:Error with SqlImplementation(resource=OntologyResource(slug='obo:dron', directory=None, scheme='sqlite', format=None, url=None, readonly=False, provider=None, local=False, in_memory=False, data=None, implementation_class=<class 'oaklib.implementations.sqldb.sql_implementation.SqlImplementation'>, import_depth=None), strict=False, _multilingual=None, autosave=True, exclude_owl_top_and_bottom=True, ontology_metamodel_mapper=None, _converter=None, auto_relax_axioms=None, cache_lookups=False, property_cache=KeyValCache(cache={}), _edge_index=None, _entailed_edge_index=None, functional_writer=None, _association_index=None, normalizers=[], engine=Engine(sqlite:////Users/AliTarik/.data/oaklib/dron.db), _session=<sqlalchemy.orm.session.Session object at 0x123d2d820>, _connection=None, _ontology_metadata_model=None, _prefix_map=None, _information_content_cache=None, _relationships_by_subject_index=None, max_items_for_in_clause=1000, can_store_associations=False) for vitamin B6: (sqlite3.DatabaseError) database disk image is malformed\n",
      "[SQL: SELECT DISTINCT statements.subject AS statements_subject \n",
      "FROM statements \n",
      "WHERE statements.predicate IN (?) AND statements.value LIKE ?]\n",
      "[parameters: ('rdfs:label', 'vitamin B6')]\n",
      "(Background on this error at: https://sqlalche.me/e/20/4xp6)\n"
     ]
    },
    {
     "name": "stdout",
     "output_type": "stream",
     "text": [
      "Created Output file: /Users/AliTarik/Documents/EFSA_DOCUMENTATION/2010_1759/claims/Reduction_of_tiredness_and_fatigue_(ID_78).ttl\n",
      "Processing file: /Users/AliTarik/Documents/EFSA_DOCUMENTATION/2010_1759/claims/Reduction_of_tiredness_and_fatigue_(ID_78).txt\n",
      "Running command: ontogpt extract -t ClaimAnalysis.FoodHealthClaim -i /Users/AliTarik/Documents/EFSA_DOCUMENTATION/2010_1759/claims/Reduction_of_tiredness_and_fatigue_(ID_78).txt --model gpt-4-turbo -o /Users/AliTarik/Documents/EFSA_DOCUMENTATION/2010_1759/claims/Reduction_of_tiredness_and_fatigue_(ID_78).ttl --output-format turtle\n"
     ]
    },
    {
     "name": "stderr",
     "output_type": "stream",
     "text": [
      "ERROR:root:Cannot find slot for based_on_the_provided_text,_there_is_no_information_related_to_a_dosage_value_or_unit._here's_how_to_properly_format_the_response_according_to_the_requested_format in Based on the provided text, there is no information related to a dosage value or unit. Here's how to properly format the response according to the requested format:\n",
      "ERROR:ontogpt.engines.knowledge_engine:Error with SqlImplementation(resource=OntologyResource(slug='obo:dron', directory=None, scheme='sqlite', format=None, url=None, readonly=False, provider=None, local=False, in_memory=False, data=None, implementation_class=<class 'oaklib.implementations.sqldb.sql_implementation.SqlImplementation'>, import_depth=None), strict=False, _multilingual=None, autosave=True, exclude_owl_top_and_bottom=True, ontology_metamodel_mapper=None, _converter=None, auto_relax_axioms=None, cache_lookups=False, property_cache=KeyValCache(cache={}), _edge_index=None, _entailed_edge_index=None, functional_writer=None, _association_index=None, normalizers=[], engine=Engine(sqlite:////Users/AliTarik/.data/oaklib/dron.db), _session=<sqlalchemy.orm.session.Session object at 0x125a10250>, _connection=None, _ontology_metadata_model=None, _prefix_map=None, _information_content_cache=None, _relationships_by_subject_index=None, max_items_for_in_clause=1000, can_store_associations=False) for Vitamin B6: (sqlite3.DatabaseError) database disk image is malformed\n",
      "[SQL: SELECT DISTINCT statements.subject AS statements_subject \n",
      "FROM statements \n",
      "WHERE statements.predicate IN (?) AND statements.value LIKE ?]\n",
      "[parameters: ('rdfs:label', 'Vitamin B6')]\n",
      "(Background on this error at: https://sqlalche.me/e/20/4xp6)\n"
     ]
    },
    {
     "name": "stdout",
     "output_type": "stream",
     "text": [
      "Created Output file: /Users/AliTarik/Documents/EFSA_DOCUMENTATION/2010_1759/claims/Contribution_to_normal_psychological_functions_(ID_77).ttl\n",
      "Processing file: /Users/AliTarik/Documents/EFSA_DOCUMENTATION/2010_1759/claims/Contribution_to_normal_psychological_functions_(ID_77).txt\n",
      "Running command: ontogpt extract -t ClaimAnalysis.FoodHealthClaim -i /Users/AliTarik/Documents/EFSA_DOCUMENTATION/2010_1759/claims/Contribution_to_normal_psychological_functions_(ID_77).txt --model gpt-4-turbo -o /Users/AliTarik/Documents/EFSA_DOCUMENTATION/2010_1759/claims/Contribution_to_normal_psychological_functions_(ID_77).ttl --output-format turtle\n"
     ]
    },
    {
     "name": "stderr",
     "output_type": "stream",
     "text": [
      "ERROR:ontogpt.engines.knowledge_engine:Error with SqlImplementation(resource=OntologyResource(slug='obo:dron', directory=None, scheme='sqlite', format=None, url=None, readonly=False, provider=None, local=False, in_memory=False, data=None, implementation_class=<class 'oaklib.implementations.sqldb.sql_implementation.SqlImplementation'>, import_depth=None), strict=False, _multilingual=None, autosave=True, exclude_owl_top_and_bottom=True, ontology_metamodel_mapper=None, _converter=None, auto_relax_axioms=None, cache_lookups=False, property_cache=KeyValCache(cache={}), _edge_index=None, _entailed_edge_index=None, functional_writer=None, _association_index=None, normalizers=[], engine=Engine(sqlite:////Users/AliTarik/.data/oaklib/dron.db), _session=<sqlalchemy.orm.session.Session object at 0x12c52e820>, _connection=None, _ontology_metadata_model=None, _prefix_map=None, _information_content_cache=None, _relationships_by_subject_index=None, max_items_for_in_clause=1000, can_store_associations=False) for Vitamin B6: (sqlite3.DatabaseError) database disk image is malformed\n",
      "[SQL: SELECT DISTINCT statements.subject AS statements_subject \n",
      "FROM statements \n",
      "WHERE statements.predicate IN (?) AND statements.value LIKE ?]\n",
      "[parameters: ('rdfs:label', 'Vitamin B6')]\n",
      "(Background on this error at: https://sqlalche.me/e/20/4xp6)\n"
     ]
    },
    {
     "name": "stdout",
     "output_type": "stream",
     "text": [
      "Created Output file: /Users/AliTarik/Documents/EFSA_DOCUMENTATION/2010_1759/claims/Maintenance_of_normal_hair_(ID_74).ttl\n",
      "Processing file: /Users/AliTarik/Documents/EFSA_DOCUMENTATION/2010_1759/claims/Maintenance_of_normal_hair_(ID_74).txt\n",
      "Running command: ontogpt extract -t ClaimAnalysis.FoodHealthClaim -i /Users/AliTarik/Documents/EFSA_DOCUMENTATION/2010_1759/claims/Maintenance_of_normal_hair_(ID_74).txt --model gpt-4-turbo -o /Users/AliTarik/Documents/EFSA_DOCUMENTATION/2010_1759/claims/Maintenance_of_normal_hair_(ID_74).ttl --output-format turtle\n"
     ]
    },
    {
     "name": "stderr",
     "output_type": "stream",
     "text": [
      "ERROR:ontogpt.engines.knowledge_engine:Error with SqlImplementation(resource=OntologyResource(slug='obo:dron', directory=None, scheme='sqlite', format=None, url=None, readonly=False, provider=None, local=False, in_memory=False, data=None, implementation_class=<class 'oaklib.implementations.sqldb.sql_implementation.SqlImplementation'>, import_depth=None), strict=False, _multilingual=None, autosave=True, exclude_owl_top_and_bottom=True, ontology_metamodel_mapper=None, _converter=None, auto_relax_axioms=None, cache_lookups=False, property_cache=KeyValCache(cache={}), _edge_index=None, _entailed_edge_index=None, functional_writer=None, _association_index=None, normalizers=[], engine=Engine(sqlite:////Users/AliTarik/.data/oaklib/dron.db), _session=<sqlalchemy.orm.session.Session object at 0x12b50ab20>, _connection=None, _ontology_metadata_model=None, _prefix_map=None, _information_content_cache=None, _relationships_by_subject_index=None, max_items_for_in_clause=1000, can_store_associations=False) for vitamin B6: (sqlite3.DatabaseError) database disk image is malformed\n",
      "[SQL: SELECT DISTINCT statements.subject AS statements_subject \n",
      "FROM statements \n",
      "WHERE statements.predicate IN (?) AND statements.value LIKE ?]\n",
      "[parameters: ('rdfs:label', 'vitamin B6')]\n",
      "(Background on this error at: https://sqlalche.me/e/20/4xp6)\n"
     ]
    },
    {
     "name": "stdout",
     "output_type": "stream",
     "text": [
      "Created Output file: /Users/AliTarik/Documents/EFSA_DOCUMENTATION/2010_1759/claims/Maintenance_of_normal_nails_(ID_74).ttl\n",
      "Processing file: /Users/AliTarik/Documents/EFSA_DOCUMENTATION/2010_1759/claims/Maintenance_of_normal_nails_(ID_74).txt\n",
      "Running command: ontogpt extract -t ClaimAnalysis.FoodHealthClaim -i /Users/AliTarik/Documents/EFSA_DOCUMENTATION/2010_1759/claims/Maintenance_of_normal_nails_(ID_74).txt --model gpt-4-turbo -o /Users/AliTarik/Documents/EFSA_DOCUMENTATION/2010_1759/claims/Maintenance_of_normal_nails_(ID_74).ttl --output-format turtle\n"
     ]
    },
    {
     "name": "stderr",
     "output_type": "stream",
     "text": [
      "ERROR:ontogpt.engines.knowledge_engine:Error with SqlImplementation(resource=OntologyResource(slug='obo:dron', directory=None, scheme='sqlite', format=None, url=None, readonly=False, provider=None, local=False, in_memory=False, data=None, implementation_class=<class 'oaklib.implementations.sqldb.sql_implementation.SqlImplementation'>, import_depth=None), strict=False, _multilingual=None, autosave=True, exclude_owl_top_and_bottom=True, ontology_metamodel_mapper=None, _converter=None, auto_relax_axioms=None, cache_lookups=False, property_cache=KeyValCache(cache={}), _edge_index=None, _entailed_edge_index=None, functional_writer=None, _association_index=None, normalizers=[], engine=Engine(sqlite:////Users/AliTarik/.data/oaklib/dron.db), _session=<sqlalchemy.orm.session.Session object at 0x12e6d7bb0>, _connection=None, _ontology_metadata_model=None, _prefix_map=None, _information_content_cache=None, _relationships_by_subject_index=None, max_items_for_in_clause=1000, can_store_associations=False) for Vitamin B6: (sqlite3.DatabaseError) database disk image is malformed\n",
      "[SQL: SELECT DISTINCT statements.subject AS statements_subject \n",
      "FROM statements \n",
      "WHERE statements.predicate IN (?) AND statements.value LIKE ?]\n",
      "[parameters: ('rdfs:label', 'Vitamin B6')]\n",
      "(Background on this error at: https://sqlalche.me/e/20/4xp6)\n"
     ]
    },
    {
     "name": "stdout",
     "output_type": "stream",
     "text": [
      "Created Output file: /Users/AliTarik/Documents/EFSA_DOCUMENTATION/2010_1759/claims/Maintenance_of_normal_skin_(ID_74).ttl\n",
      "Processing file: /Users/AliTarik/Documents/EFSA_DOCUMENTATION/2010_1759/claims/Maintenance_of_normal_skin_(ID_74).txt\n",
      "Running command: ontogpt extract -t ClaimAnalysis.FoodHealthClaim -i /Users/AliTarik/Documents/EFSA_DOCUMENTATION/2010_1759/claims/Maintenance_of_normal_skin_(ID_74).txt --model gpt-4-turbo -o /Users/AliTarik/Documents/EFSA_DOCUMENTATION/2010_1759/claims/Maintenance_of_normal_skin_(ID_74).ttl --output-format turtle\n"
     ]
    },
    {
     "name": "stderr",
     "output_type": "stream",
     "text": [
      "ERROR:root:Cannot find slot for for_the_provided_text,_we_need_to_analyze_and_split_the_portion_of_information_related_to_dosage_or_measures_that_could_contain_a_unit_(like_g,_mg)_and_a_numeric_value._however,_here's_how_it_looks_based_on_the_provided_text in For the provided text, we need to analyze and split the portion of information related to dosage or measures that could contain a unit (like g, mg) and a numeric value. However, here's how it looks based on the provided text:\n",
      "ERROR:root:Cannot find slot for text in Text:\n",
      "ERROR:root:Line 'Source level as per Annex to Regulation (EC) No 1924/2006' does not contain a colon; ignoring\n",
      "ERROR:ontogpt.engines.knowledge_engine:Error with SqlImplementation(resource=OntologyResource(slug='obo:dron', directory=None, scheme='sqlite', format=None, url=None, readonly=False, provider=None, local=False, in_memory=False, data=None, implementation_class=<class 'oaklib.implementations.sqldb.sql_implementation.SqlImplementation'>, import_depth=None), strict=False, _multilingual=None, autosave=True, exclude_owl_top_and_bottom=True, ontology_metamodel_mapper=None, _converter=None, auto_relax_axioms=None, cache_lookups=False, property_cache=KeyValCache(cache={}), _edge_index=None, _entailed_edge_index=None, functional_writer=None, _association_index=None, normalizers=[], engine=Engine(sqlite:////Users/AliTarik/.data/oaklib/dron.db), _session=<sqlalchemy.orm.session.Session object at 0x12a07e250>, _connection=None, _ontology_metadata_model=None, _prefix_map=None, _information_content_cache=None, _relationships_by_subject_index=None, max_items_for_in_clause=1000, can_store_associations=False) for Vitamin B6: (sqlite3.DatabaseError) database disk image is malformed\n",
      "[SQL: SELECT DISTINCT statements.subject AS statements_subject \n",
      "FROM statements \n",
      "WHERE statements.predicate IN (?) AND statements.value LIKE ?]\n",
      "[parameters: ('rdfs:label', 'Vitamin B6')]\n",
      "(Background on this error at: https://sqlalche.me/e/20/4xp6)\n",
      "Traceback (most recent call last):\n",
      "  File \"/usr/local/bin/ontogpt\", line 8, in <module>\n",
      "    sys.exit(main())\n",
      "  File \"/usr/local/lib/python3.9/site-packages/click/core.py\", line 1157, in __call__\n",
      "    return self.main(*args, **kwargs)\n",
      "  File \"/usr/local/lib/python3.9/site-packages/click/core.py\", line 1078, in main\n",
      "    rv = self.invoke(ctx)\n",
      "  File \"/usr/local/lib/python3.9/site-packages/click/core.py\", line 1688, in invoke\n",
      "    return _process_result(sub_ctx.command.invoke(sub_ctx))\n",
      "  File \"/usr/local/lib/python3.9/site-packages/click/core.py\", line 1434, in invoke\n",
      "    return ctx.invoke(self.callback, **ctx.params)\n",
      "  File \"/usr/local/lib/python3.9/site-packages/click/core.py\", line 783, in invoke\n",
      "    return __callback(*args, **kwargs)\n",
      "  File \"/usr/local/lib/python3.9/site-packages/ontogpt/cli.py\", line 388, in extract\n",
      "    results = ke.extract_from_text(\n",
      "  File \"/usr/local/lib/python3.9/site-packages/ontogpt/engines/spires_engine.py\", line 95, in extract_from_text\n",
      "    extracted_object = self.parse_completion_payload(\n",
      "  File \"/usr/local/lib/python3.9/site-packages/ontogpt/engines/spires_engine.py\", line 558, in parse_completion_payload\n",
      "    return self.ground_annotation_object(raw, cls)\n",
      "  File \"/usr/local/lib/python3.9/site-packages/ontogpt/engines/spires_engine.py\", line 650, in ground_annotation_object\n",
      "    return py_cls(**new_ann)\n",
      "  File \"/usr/local/lib/python3.9/site-packages/pydantic/main.py\", line 176, in __init__\n",
      "    self.__pydantic_validator__.validate_python(data, self_instance=self)\n",
      "pydantic_core._pydantic_core.ValidationError: 1 validation error for FoodHealthClaim\n",
      "has_dose\n",
      "  Input should be a valid dictionary or instance of Dose [type=model_type, input_value=[], input_type=list]\n",
      "    For further information visit https://errors.pydantic.dev/2.7/v/model_type\n"
     ]
    },
    {
     "name": "stdout",
     "output_type": "stream",
     "text": [
      "Created Output file: /Users/AliTarik/Documents/EFSA_DOCUMENTATION/2010_1759/claims/Maintenance_of_normal_bone_(ID_74).ttl\n",
      "Processing file: /Users/AliTarik/Documents/EFSA_DOCUMENTATION/2010_1759/claims/Maintenance_of_normal_bone_(ID_74).txt\n",
      "Running command: ontogpt extract -t ClaimAnalysis.FoodHealthClaim -i /Users/AliTarik/Documents/EFSA_DOCUMENTATION/2010_1759/claims/Maintenance_of_normal_bone_(ID_74).txt --model gpt-4-turbo -o /Users/AliTarik/Documents/EFSA_DOCUMENTATION/2010_1759/claims/Maintenance_of_normal_bone_(ID_74).ttl --output-format turtle\n"
     ]
    },
    {
     "name": "stderr",
     "output_type": "stream",
     "text": [
      "ERROR:ontogpt.engines.knowledge_engine:Error with SqlImplementation(resource=OntologyResource(slug='obo:dron', directory=None, scheme='sqlite', format=None, url=None, readonly=False, provider=None, local=False, in_memory=False, data=None, implementation_class=<class 'oaklib.implementations.sqldb.sql_implementation.SqlImplementation'>, import_depth=None), strict=False, _multilingual=None, autosave=True, exclude_owl_top_and_bottom=True, ontology_metamodel_mapper=None, _converter=None, auto_relax_axioms=None, cache_lookups=False, property_cache=KeyValCache(cache={}), _edge_index=None, _entailed_edge_index=None, functional_writer=None, _association_index=None, normalizers=[], engine=Engine(sqlite:////Users/AliTarik/.data/oaklib/dron.db), _session=<sqlalchemy.orm.session.Session object at 0x126d472e0>, _connection=None, _ontology_metadata_model=None, _prefix_map=None, _information_content_cache=None, _relationships_by_subject_index=None, max_items_for_in_clause=1000, can_store_associations=False) for Vitamin B6: (sqlite3.DatabaseError) database disk image is malformed\n",
      "[SQL: SELECT DISTINCT statements.subject AS statements_subject \n",
      "FROM statements \n",
      "WHERE statements.predicate IN (?) AND statements.value LIKE ?]\n",
      "[parameters: ('rdfs:label', 'Vitamin B6')]\n",
      "(Background on this error at: https://sqlalche.me/e/20/4xp6)\n"
     ]
    },
    {
     "name": "stdout",
     "output_type": "stream",
     "text": [
      "Created Output file: /Users/AliTarik/Documents/EFSA_DOCUMENTATION/2010_1759/claims/Contribution_to_normal_energy-yielding_metabolism_(ID_75,_214).ttl\n",
      "Processing file: /Users/AliTarik/Documents/EFSA_DOCUMENTATION/2010_1759/claims/Contribution_to_normal_energy-yielding_metabolism_(ID_75,_214).txt\n",
      "Running command: ontogpt extract -t ClaimAnalysis.FoodHealthClaim -i /Users/AliTarik/Documents/EFSA_DOCUMENTATION/2010_1759/claims/Contribution_to_normal_energy-yielding_metabolism_(ID_75,_214).txt --model gpt-4-turbo -o /Users/AliTarik/Documents/EFSA_DOCUMENTATION/2010_1759/claims/Contribution_to_normal_energy-yielding_metabolism_(ID_75,_214).ttl --output-format turtle\n"
     ]
    },
    {
     "name": "stderr",
     "output_type": "stream",
     "text": [
      "ERROR:ontogpt.engines.knowledge_engine:Error with SqlImplementation(resource=OntologyResource(slug='obo:dron', directory=None, scheme='sqlite', format=None, url=None, readonly=False, provider=None, local=False, in_memory=False, data=None, implementation_class=<class 'oaklib.implementations.sqldb.sql_implementation.SqlImplementation'>, import_depth=None), strict=False, _multilingual=None, autosave=True, exclude_owl_top_and_bottom=True, ontology_metamodel_mapper=None, _converter=None, auto_relax_axioms=None, cache_lookups=False, property_cache=KeyValCache(cache={}), _edge_index=None, _entailed_edge_index=None, functional_writer=None, _association_index=None, normalizers=[], engine=Engine(sqlite:////Users/AliTarik/.data/oaklib/dron.db), _session=<sqlalchemy.orm.session.Session object at 0x125e72b20>, _connection=None, _ontology_metadata_model=None, _prefix_map=None, _information_content_cache=None, _relationships_by_subject_index=None, max_items_for_in_clause=1000, can_store_associations=False) for Vitamin B6: (sqlite3.DatabaseError) database disk image is malformed\n",
      "[SQL: SELECT DISTINCT statements.subject AS statements_subject \n",
      "FROM statements \n",
      "WHERE statements.predicate IN (?) AND statements.value LIKE ?]\n",
      "[parameters: ('rdfs:label', 'Vitamin B6')]\n",
      "(Background on this error at: https://sqlalche.me/e/20/4xp6)\n"
     ]
    },
    {
     "name": "stdout",
     "output_type": "stream",
     "text": [
      "Skipping /Users/AliTarik/Documents/EFSA_DOCUMENTATION/.DS_Store, 'claims' folder not found.\n",
      "Processing directory: /Users/AliTarik/Documents/EFSA_DOCUMENTATION/2010_1760/claims\n",
      "Created Output file: /Users/AliTarik/Documents/EFSA_DOCUMENTATION/2010_1760/claims/Contribution_to_normal_psychological_functions_(ID_81,_85,_86,_88).ttl\n",
      "Processing file: /Users/AliTarik/Documents/EFSA_DOCUMENTATION/2010_1760/claims/Contribution_to_normal_psychological_functions_(ID_81,_85,_86,_88).txt\n",
      "Running command: ontogpt extract -t ClaimAnalysis.FoodHealthClaim -i /Users/AliTarik/Documents/EFSA_DOCUMENTATION/2010_1760/claims/Contribution_to_normal_psychological_functions_(ID_81,_85,_86,_88).txt --model gpt-4-turbo -o /Users/AliTarik/Documents/EFSA_DOCUMENTATION/2010_1760/claims/Contribution_to_normal_psychological_functions_(ID_81,_85,_86,_88).ttl --output-format turtle\n"
     ]
    },
    {
     "name": "stderr",
     "output_type": "stream",
     "text": [
      "ERROR:ontogpt.engines.knowledge_engine:Error with SqlImplementation(resource=OntologyResource(slug='obo:dron', directory=None, scheme='sqlite', format=None, url=None, readonly=False, provider=None, local=False, in_memory=False, data=None, implementation_class=<class 'oaklib.implementations.sqldb.sql_implementation.SqlImplementation'>, import_depth=None), strict=False, _multilingual=None, autosave=True, exclude_owl_top_and_bottom=True, ontology_metamodel_mapper=None, _converter=None, auto_relax_axioms=None, cache_lookups=False, property_cache=KeyValCache(cache={}), _edge_index=None, _entailed_edge_index=None, functional_writer=None, _association_index=None, normalizers=[], engine=Engine(sqlite:////Users/AliTarik/.data/oaklib/dron.db), _session=<sqlalchemy.orm.session.Session object at 0x121b419d0>, _connection=None, _ontology_metadata_model=None, _prefix_map=None, _information_content_cache=None, _relationships_by_subject_index=None, max_items_for_in_clause=1000, can_store_associations=False) for Folate: (sqlite3.DatabaseError) database disk image is malformed\n",
      "[SQL: SELECT DISTINCT statements.subject AS statements_subject \n",
      "FROM statements \n",
      "WHERE statements.predicate IN (?) AND statements.value LIKE ?]\n",
      "[parameters: ('rdfs:label', 'Folate')]\n",
      "(Background on this error at: https://sqlalche.me/e/20/4xp6)\n"
     ]
    },
    {
     "name": "stdout",
     "output_type": "stream",
     "text": [
      "Created Output file: /Users/AliTarik/Documents/EFSA_DOCUMENTATION/2010_1760/claims/Maintenance_of_normal_vision_(ID_83,_87).ttl\n",
      "Processing file: /Users/AliTarik/Documents/EFSA_DOCUMENTATION/2010_1760/claims/Maintenance_of_normal_vision_(ID_83,_87).txt\n",
      "Running command: ontogpt extract -t ClaimAnalysis.FoodHealthClaim -i /Users/AliTarik/Documents/EFSA_DOCUMENTATION/2010_1760/claims/Maintenance_of_normal_vision_(ID_83,_87).txt --model gpt-4-turbo -o /Users/AliTarik/Documents/EFSA_DOCUMENTATION/2010_1760/claims/Maintenance_of_normal_vision_(ID_83,_87).ttl --output-format turtle\n"
     ]
    },
    {
     "name": "stderr",
     "output_type": "stream",
     "text": [
      "ERROR:ontogpt.engines.knowledge_engine:Error with SqlImplementation(resource=OntologyResource(slug='obo:dron', directory=None, scheme='sqlite', format=None, url=None, readonly=False, provider=None, local=False, in_memory=False, data=None, implementation_class=<class 'oaklib.implementations.sqldb.sql_implementation.SqlImplementation'>, import_depth=None), strict=False, _multilingual=None, autosave=True, exclude_owl_top_and_bottom=True, ontology_metamodel_mapper=None, _converter=None, auto_relax_axioms=None, cache_lookups=False, property_cache=KeyValCache(cache={}), _edge_index=None, _entailed_edge_index=None, functional_writer=None, _association_index=None, normalizers=[], engine=Engine(sqlite:////Users/AliTarik/.data/oaklib/dron.db), _session=<sqlalchemy.orm.session.Session object at 0x12f3fb040>, _connection=None, _ontology_metadata_model=None, _prefix_map=None, _information_content_cache=None, _relationships_by_subject_index=None, max_items_for_in_clause=1000, can_store_associations=False) for Folate: (sqlite3.DatabaseError) database disk image is malformed\n",
      "[SQL: SELECT DISTINCT statements.subject AS statements_subject \n",
      "FROM statements \n",
      "WHERE statements.predicate IN (?) AND statements.value LIKE ?]\n",
      "[parameters: ('rdfs:label', 'Folate')]\n",
      "(Background on this error at: https://sqlalche.me/e/20/4xp6)\n"
     ]
    },
    {
     "name": "stdout",
     "output_type": "stream",
     "text": [
      "Created Output file: /Users/AliTarik/Documents/EFSA_DOCUMENTATION/2010_1760/claims/Contribution_to_normal_amino_acid_synthesis_(ID_195,_2881).ttl\n",
      "Processing file: /Users/AliTarik/Documents/EFSA_DOCUMENTATION/2010_1760/claims/Contribution_to_normal_amino_acid_synthesis_(ID_195,_2881).txt\n",
      "Running command: ontogpt extract -t ClaimAnalysis.FoodHealthClaim -i /Users/AliTarik/Documents/EFSA_DOCUMENTATION/2010_1760/claims/Contribution_to_normal_amino_acid_synthesis_(ID_195,_2881).txt --model gpt-4-turbo -o /Users/AliTarik/Documents/EFSA_DOCUMENTATION/2010_1760/claims/Contribution_to_normal_amino_acid_synthesis_(ID_195,_2881).ttl --output-format turtle\n"
     ]
    },
    {
     "name": "stderr",
     "output_type": "stream",
     "text": [
      "ERROR:ontogpt.engines.knowledge_engine:Error with SqlImplementation(resource=OntologyResource(slug='obo:dron', directory=None, scheme='sqlite', format=None, url=None, readonly=False, provider=None, local=False, in_memory=False, data=None, implementation_class=<class 'oaklib.implementations.sqldb.sql_implementation.SqlImplementation'>, import_depth=None), strict=False, _multilingual=None, autosave=True, exclude_owl_top_and_bottom=True, ontology_metamodel_mapper=None, _converter=None, auto_relax_axioms=None, cache_lookups=False, property_cache=KeyValCache(cache={}), _edge_index=None, _entailed_edge_index=None, functional_writer=None, _association_index=None, normalizers=[], engine=Engine(sqlite:////Users/AliTarik/.data/oaklib/dron.db), _session=<sqlalchemy.orm.session.Session object at 0x127917d90>, _connection=None, _ontology_metadata_model=None, _prefix_map=None, _information_content_cache=None, _relationships_by_subject_index=None, max_items_for_in_clause=1000, can_store_associations=False) for Folate: (sqlite3.DatabaseError) database disk image is malformed\n",
      "[SQL: SELECT DISTINCT statements.subject AS statements_subject \n",
      "FROM statements \n",
      "WHERE statements.predicate IN (?) AND statements.value LIKE ?]\n",
      "[parameters: ('rdfs:label', 'Folate')]\n",
      "(Background on this error at: https://sqlalche.me/e/20/4xp6)\n"
     ]
    },
    {
     "name": "stdout",
     "output_type": "stream",
     "text": [
      "Created Output file: /Users/AliTarik/Documents/EFSA_DOCUMENTATION/2010_1760/claims/Reduction_of_tiredness_and_fatigue_(ID_84).ttl\n",
      "Processing file: /Users/AliTarik/Documents/EFSA_DOCUMENTATION/2010_1760/claims/Reduction_of_tiredness_and_fatigue_(ID_84).txt\n",
      "Running command: ontogpt extract -t ClaimAnalysis.FoodHealthClaim -i /Users/AliTarik/Documents/EFSA_DOCUMENTATION/2010_1760/claims/Reduction_of_tiredness_and_fatigue_(ID_84).txt --model gpt-4-turbo -o /Users/AliTarik/Documents/EFSA_DOCUMENTATION/2010_1760/claims/Reduction_of_tiredness_and_fatigue_(ID_84).ttl --output-format turtle\n"
     ]
    },
    {
     "name": "stderr",
     "output_type": "stream",
     "text": [
      "ERROR:ontogpt.engines.knowledge_engine:Error with SqlImplementation(resource=OntologyResource(slug='obo:dron', directory=None, scheme='sqlite', format=None, url=None, readonly=False, provider=None, local=False, in_memory=False, data=None, implementation_class=<class 'oaklib.implementations.sqldb.sql_implementation.SqlImplementation'>, import_depth=None), strict=False, _multilingual=None, autosave=True, exclude_owl_top_and_bottom=True, ontology_metamodel_mapper=None, _converter=None, auto_relax_axioms=None, cache_lookups=False, property_cache=KeyValCache(cache={}), _edge_index=None, _entailed_edge_index=None, functional_writer=None, _association_index=None, normalizers=[], engine=Engine(sqlite:////Users/AliTarik/.data/oaklib/dron.db), _session=<sqlalchemy.orm.session.Session object at 0x129c84d00>, _connection=None, _ontology_metadata_model=None, _prefix_map=None, _information_content_cache=None, _relationships_by_subject_index=None, max_items_for_in_clause=1000, can_store_associations=False) for folate: (sqlite3.DatabaseError) database disk image is malformed\n",
      "[SQL: SELECT DISTINCT statements.subject AS statements_subject \n",
      "FROM statements \n",
      "WHERE statements.predicate IN (?) AND statements.value LIKE ?]\n",
      "[parameters: ('rdfs:label', 'folate')]\n",
      "(Background on this error at: https://sqlalche.me/e/20/4xp6)\n"
     ]
    },
    {
     "name": "stdout",
     "output_type": "stream",
     "text": [
      "Created Output file: /Users/AliTarik/Documents/EFSA_DOCUMENTATION/2010_1760/claims/title_you_find.ttl\n",
      "Processing file: /Users/AliTarik/Documents/EFSA_DOCUMENTATION/2010_1760/claims/title_you_find.txt\n",
      "Running command: ontogpt extract -t ClaimAnalysis.FoodHealthClaim -i /Users/AliTarik/Documents/EFSA_DOCUMENTATION/2010_1760/claims/title_you_find.txt --model gpt-4-turbo -o /Users/AliTarik/Documents/EFSA_DOCUMENTATION/2010_1760/claims/title_you_find.ttl --output-format turtle\n"
     ]
    },
    {
     "name": "stderr",
     "output_type": "stream",
     "text": [
      "ERROR:ontogpt.engines.knowledge_engine:Error with SqlImplementation(resource=OntologyResource(slug='obo:dron', directory=None, scheme='sqlite', format=None, url=None, readonly=False, provider=None, local=False, in_memory=False, data=None, implementation_class=<class 'oaklib.implementations.sqldb.sql_implementation.SqlImplementation'>, import_depth=None), strict=False, _multilingual=None, autosave=True, exclude_owl_top_and_bottom=True, ontology_metamodel_mapper=None, _converter=None, auto_relax_axioms=None, cache_lookups=False, property_cache=KeyValCache(cache={}), _edge_index=None, _entailed_edge_index=None, functional_writer=None, _association_index=None, normalizers=[], engine=Engine(sqlite:////Users/AliTarik/.data/oaklib/dron.db), _session=<sqlalchemy.orm.session.Session object at 0x12d0e31f0>, _connection=None, _ontology_metadata_model=None, _prefix_map=None, _information_content_cache=None, _relationships_by_subject_index=None, max_items_for_in_clause=1000, can_store_associations=False) for folate: (sqlite3.DatabaseError) database disk image is malformed\n",
      "[SQL: SELECT DISTINCT statements.subject AS statements_subject \n",
      "FROM statements \n",
      "WHERE statements.predicate IN (?) AND statements.value LIKE ?]\n",
      "[parameters: ('rdfs:label', 'folate')]\n",
      "(Background on this error at: https://sqlalche.me/e/20/4xp6)\n"
     ]
    },
    {
     "name": "stdout",
     "output_type": "stream",
     "text": [
      "Processing directory: /Users/AliTarik/Documents/EFSA_DOCUMENTATION/2010_1758/claims\n",
      "Created Output file: /Users/AliTarik/Documents/EFSA_DOCUMENTATION/2010_1758/claims/Reduction_of_tiredness_and_fatigue_(ID_63).ttl\n",
      "Processing file: /Users/AliTarik/Documents/EFSA_DOCUMENTATION/2010_1758/claims/Reduction_of_tiredness_and_fatigue_(ID_63).txt\n",
      "Running command: ontogpt extract -t ClaimAnalysis.FoodHealthClaim -i /Users/AliTarik/Documents/EFSA_DOCUMENTATION/2010_1758/claims/Reduction_of_tiredness_and_fatigue_(ID_63).txt --model gpt-4-turbo -o /Users/AliTarik/Documents/EFSA_DOCUMENTATION/2010_1758/claims/Reduction_of_tiredness_and_fatigue_(ID_63).ttl --output-format turtle\n"
     ]
    },
    {
     "name": "stderr",
     "output_type": "stream",
     "text": [
      "ERROR:ontogpt.engines.knowledge_engine:Error with SqlImplementation(resource=OntologyResource(slug='obo:dron', directory=None, scheme='sqlite', format=None, url=None, readonly=False, provider=None, local=False, in_memory=False, data=None, implementation_class=<class 'oaklib.implementations.sqldb.sql_implementation.SqlImplementation'>, import_depth=None), strict=False, _multilingual=None, autosave=True, exclude_owl_top_and_bottom=True, ontology_metamodel_mapper=None, _converter=None, auto_relax_axioms=None, cache_lookups=False, property_cache=KeyValCache(cache={}), _edge_index=None, _entailed_edge_index=None, functional_writer=None, _association_index=None, normalizers=[], engine=Engine(sqlite:////Users/AliTarik/.data/oaklib/dron.db), _session=<sqlalchemy.orm.session.Session object at 0x1269f3190>, _connection=None, _ontology_metadata_model=None, _prefix_map=None, _information_content_cache=None, _relationships_by_subject_index=None, max_items_for_in_clause=1000, can_store_associations=False) for Pantothenic acid: (sqlite3.DatabaseError) database disk image is malformed\n",
      "[SQL: SELECT DISTINCT statements.subject AS statements_subject \n",
      "FROM statements \n",
      "WHERE statements.predicate IN (?) AND statements.value LIKE ?]\n",
      "[parameters: ('rdfs:label', 'Pantothenic acid')]\n",
      "(Background on this error at: https://sqlalche.me/e/20/4xp6)\n"
     ]
    },
    {
     "name": "stdout",
     "output_type": "stream",
     "text": [
      "Processing directory: /Users/AliTarik/Documents/EFSA_DOCUMENTATION/2010_1798/claims\n",
      "Created Output file: /Users/AliTarik/Documents/EFSA_DOCUMENTATION/2010_1798/claims/Reduction_of_body_weight_(ID_854,_1556,_3725).ttl\n",
      "Processing file: /Users/AliTarik/Documents/EFSA_DOCUMENTATION/2010_1798/claims/Reduction_of_body_weight_(ID_854,_1556,_3725).txt\n",
      "Running command: ontogpt extract -t ClaimAnalysis.FoodHealthClaim -i /Users/AliTarik/Documents/EFSA_DOCUMENTATION/2010_1798/claims/Reduction_of_body_weight_(ID_854,_1556,_3725).txt --model gpt-4-turbo -o /Users/AliTarik/Documents/EFSA_DOCUMENTATION/2010_1798/claims/Reduction_of_body_weight_(ID_854,_1556,_3725).ttl --output-format turtle\n"
     ]
    },
    {
     "name": "stderr",
     "output_type": "stream",
     "text": [
      "ERROR:ontogpt.engines.knowledge_engine:Error with SqlImplementation(resource=OntologyResource(slug='obo:dron', directory=None, scheme='sqlite', format=None, url=None, readonly=False, provider=None, local=False, in_memory=False, data=None, implementation_class=<class 'oaklib.implementations.sqldb.sql_implementation.SqlImplementation'>, import_depth=None), strict=False, _multilingual=None, autosave=True, exclude_owl_top_and_bottom=True, ontology_metamodel_mapper=None, _converter=None, auto_relax_axioms=None, cache_lookups=False, property_cache=KeyValCache(cache={}), _edge_index=None, _entailed_edge_index=None, functional_writer=None, _association_index=None, normalizers=[], engine=Engine(sqlite:////Users/AliTarik/.data/oaklib/dron.db), _session=<sqlalchemy.orm.session.Session object at 0x12383ffd0>, _connection=None, _ontology_metadata_model=None, _prefix_map=None, _information_content_cache=None, _relationships_by_subject_index=None, max_items_for_in_clause=1000, can_store_associations=False) for Glucomannan: (sqlite3.DatabaseError) database disk image is malformed\n",
      "[SQL: SELECT DISTINCT statements.subject AS statements_subject \n",
      "FROM statements \n",
      "WHERE statements.predicate IN (?) AND statements.value LIKE ?]\n",
      "[parameters: ('rdfs:label', 'Glucomannan')]\n",
      "(Background on this error at: https://sqlalche.me/e/20/4xp6)\n"
     ]
    },
    {
     "name": "stdout",
     "output_type": "stream",
     "text": [
      "Processing directory: /Users/AliTarik/Documents/EFSA_DOCUMENTATION/2010_1796/claims\n",
      "Created Output file: /Users/AliTarik/Documents/EFSA_DOCUMENTATION/2010_1796/claims/Maintenance_of_normal_cardiac_function_(ID_504,_506,_516,_527,_538,_703,_1128,_1317,_1324,_1325).ttl\n",
      "Processing file: /Users/AliTarik/Documents/EFSA_DOCUMENTATION/2010_1796/claims/Maintenance_of_normal_cardiac_function_(ID_504,_506,_516,_527,_538,_703,_1128,_1317,_1324,_1325).txt\n",
      "Running command: ontogpt extract -t ClaimAnalysis.FoodHealthClaim -i /Users/AliTarik/Documents/EFSA_DOCUMENTATION/2010_1796/claims/Maintenance_of_normal_cardiac_function_(ID_504,_506,_516,_527,_538,_703,_1128,_1317,_1324,_1325).txt --model gpt-4-turbo -o /Users/AliTarik/Documents/EFSA_DOCUMENTATION/2010_1796/claims/Maintenance_of_normal_cardiac_function_(ID_504,_506,_516,_527,_538,_703,_1128,_1317,_1324,_1325).ttl --output-format turtle\n"
     ]
    },
    {
     "name": "stderr",
     "output_type": "stream",
     "text": [
      "ERROR:ontogpt.engines.knowledge_engine:Error with SqlImplementation(resource=OntologyResource(slug='obo:dron', directory=None, scheme='sqlite', format=None, url=None, readonly=False, provider=None, local=False, in_memory=False, data=None, implementation_class=<class 'oaklib.implementations.sqldb.sql_implementation.SqlImplementation'>, import_depth=None), strict=False, _multilingual=None, autosave=True, exclude_owl_top_and_bottom=True, ontology_metamodel_mapper=None, _converter=None, auto_relax_axioms=None, cache_lookups=False, property_cache=KeyValCache(cache={}), _edge_index=None, _entailed_edge_index=None, functional_writer=None, _association_index=None, normalizers=[], engine=Engine(sqlite:////Users/AliTarik/.data/oaklib/dron.db), _session=<sqlalchemy.orm.session.Session object at 0x126c40dc0>, _connection=None, _ontology_metadata_model=None, _prefix_map=None, _information_content_cache=None, _relationships_by_subject_index=None, max_items_for_in_clause=1000, can_store_associations=False) for EPA and DHA: (sqlite3.DatabaseError) database disk image is malformed\n",
      "[SQL: SELECT DISTINCT statements.subject AS statements_subject \n",
      "FROM statements \n",
      "WHERE statements.predicate IN (?) AND statements.value LIKE ?]\n",
      "[parameters: ('rdfs:label', 'EPA and DHA')]\n",
      "(Background on this error at: https://sqlalche.me/e/20/4xp6)\n"
     ]
    },
    {
     "name": "stdout",
     "output_type": "stream",
     "text": [
      "Processing directory: /Users/AliTarik/Documents/EFSA_DOCUMENTATION/2010_1764/claims\n",
      "Created Output file: /Users/AliTarik/Documents/EFSA_DOCUMENTATION/2010_1764/claims/Maintenance_of_skin_and_mucous_membranes_(ID_115).ttl\n",
      "Processing file: /Users/AliTarik/Documents/EFSA_DOCUMENTATION/2010_1764/claims/Maintenance_of_skin_and_mucous_membranes_(ID_115).txt\n",
      "Running command: ontogpt extract -t ClaimAnalysis.FoodHealthClaim -i /Users/AliTarik/Documents/EFSA_DOCUMENTATION/2010_1764/claims/Maintenance_of_skin_and_mucous_membranes_(ID_115).txt --model gpt-4-turbo -o /Users/AliTarik/Documents/EFSA_DOCUMENTATION/2010_1764/claims/Maintenance_of_skin_and_mucous_membranes_(ID_115).ttl --output-format turtle\n"
     ]
    },
    {
     "name": "stderr",
     "output_type": "stream",
     "text": [
      "ERROR:ontogpt.engines.knowledge_engine:Error with SqlImplementation(resource=OntologyResource(slug='obo:dron', directory=None, scheme='sqlite', format=None, url=None, readonly=False, provider=None, local=False, in_memory=False, data=None, implementation_class=<class 'oaklib.implementations.sqldb.sql_implementation.SqlImplementation'>, import_depth=None), strict=False, _multilingual=None, autosave=True, exclude_owl_top_and_bottom=True, ontology_metamodel_mapper=None, _converter=None, auto_relax_axioms=None, cache_lookups=False, property_cache=KeyValCache(cache={}), _edge_index=None, _entailed_edge_index=None, functional_writer=None, _association_index=None, normalizers=[], engine=Engine(sqlite:////Users/AliTarik/.data/oaklib/dron.db), _session=<sqlalchemy.orm.session.Session object at 0x12925cd90>, _connection=None, _ontology_metadata_model=None, _prefix_map=None, _information_content_cache=None, _relationships_by_subject_index=None, max_items_for_in_clause=1000, can_store_associations=False) for Chloride: (sqlite3.DatabaseError) database disk image is malformed\n",
      "[SQL: SELECT DISTINCT statements.subject AS statements_subject \n",
      "FROM statements \n",
      "WHERE statements.predicate IN (?) AND statements.value LIKE ?]\n",
      "[parameters: ('rdfs:label', 'Chloride')]\n",
      "(Background on this error at: https://sqlalche.me/e/20/4xp6)\n"
     ]
    },
    {
     "name": "stdout",
     "output_type": "stream",
     "text": [
      "Processing directory: /Users/AliTarik/Documents/EFSA_DOCUMENTATION/2010_1763/claims\n",
      "Created Output file: /Users/AliTarik/Documents/EFSA_DOCUMENTATION/2010_1763/claims/Conclusion.ttl\n",
      "Processing file: /Users/AliTarik/Documents/EFSA_DOCUMENTATION/2010_1763/claims/Conclusion.txt\n",
      "Running command: ontogpt extract -t ClaimAnalysis.FoodHealthClaim -i /Users/AliTarik/Documents/EFSA_DOCUMENTATION/2010_1763/claims/Conclusion.txt --model gpt-4-turbo -o /Users/AliTarik/Documents/EFSA_DOCUMENTATION/2010_1763/claims/Conclusion.ttl --output-format turtle\n"
     ]
    },
    {
     "name": "stderr",
     "output_type": "stream",
     "text": [
      "ERROR:ontogpt.engines.knowledge_engine:Error with SqlImplementation(resource=OntologyResource(slug='obo:dron', directory=None, scheme='sqlite', format=None, url=None, readonly=False, provider=None, local=False, in_memory=False, data=None, implementation_class=<class 'oaklib.implementations.sqldb.sql_implementation.SqlImplementation'>, import_depth=None), strict=False, _multilingual=None, autosave=True, exclude_owl_top_and_bottom=True, ontology_metamodel_mapper=None, _converter=None, auto_relax_axioms=None, cache_lookups=False, property_cache=KeyValCache(cache={}), _edge_index=None, _entailed_edge_index=None, functional_writer=None, _association_index=None, normalizers=[], engine=Engine(sqlite:////Users/AliTarik/.data/oaklib/dron.db), _session=<sqlalchemy.orm.session.Session object at 0x129f1d460>, _connection=None, _ontology_metadata_model=None, _prefix_map=None, _information_content_cache=None, _relationships_by_subject_index=None, max_items_for_in_clause=1000, can_store_associations=False) for live yoghurt culture: (sqlite3.DatabaseError) database disk image is malformed\n",
      "[SQL: SELECT DISTINCT statements.subject AS statements_subject \n",
      "FROM statements \n",
      "WHERE statements.predicate IN (?) AND statements.value LIKE ?]\n",
      "[parameters: ('rdfs:label', 'live yoghurt culture')]\n",
      "(Background on this error at: https://sqlalche.me/e/20/4xp6)\n",
      "ERROR:ontogpt.engines.knowledge_engine:Error with SqlImplementation(resource=OntologyResource(slug='obo:dron', directory=None, scheme='sqlite', format=None, url=None, readonly=False, provider=None, local=False, in_memory=False, data=None, implementation_class=<class 'oaklib.implementations.sqldb.sql_implementation.SqlImplementation'>, import_depth=None), strict=False, _multilingual=None, autosave=True, exclude_owl_top_and_bottom=True, ontology_metamodel_mapper=None, _converter=None, auto_relax_axioms=None, cache_lookups=False, property_cache=KeyValCache(cache={}), _edge_index=None, _entailed_edge_index=None, functional_writer=None, _association_index=None, normalizers=[], engine=Engine(sqlite:////Users/AliTarik/.data/oaklib/dron.db), _session=<sqlalchemy.orm.session.Session object at 0x129f1d460>, _connection=None, _ontology_metadata_model=None, _prefix_map=None, _information_content_cache=None, _relationships_by_subject_index=None, max_items_for_in_clause=1000, can_store_associations=False) for live yoghurt cultures: (sqlite3.DatabaseError) database disk image is malformed\n",
      "[SQL: SELECT DISTINCT statements.subject AS statements_subject \n",
      "FROM statements \n",
      "WHERE statements.predicate IN (?) AND statements.value LIKE ?]\n",
      "[parameters: ('rdfs:label', 'live yoghurt cultures')]\n",
      "(Background on this error at: https://sqlalche.me/e/20/4xp6)\n"
     ]
    },
    {
     "name": "stdout",
     "output_type": "stream",
     "text": [
      "Skipping /Users/AliTarik/Documents/EFSA_DOCUMENTATION/2010_1797, 'claims' folder not found.\n"
     ]
    }
   ],
   "source": [
    "def run_ontogpt_evidence(input_file,element,output_file):\n",
    "    # Define the command and arguments\n",
    "    command = \"ontogpt\"\n",
    "    args = [\"extract\", \"-t\", element, \"-i\", input_file, \"--model\", \"gpt-4-turbo\", \"-o\", output_file, \"--output-format\", \"turtle\" ]#, \"-m\", \"gpt-4o\"]\n",
    "    # Combine the command and arguments\n",
    "    full_command = [command] + args\n",
    "    print(\"Running command:\", ' '.join(full_command))\n",
    "    # Execute the command\n",
    "    # try:\n",
    "    result = subprocess.run(full_command)\n",
    "    #     if result.stderr:\n",
    "    #         print(\"Errors:\", result.stderr)\n",
    "    # except subprocess.CalledProcessError as e:\n",
    "    #     print(\"An error occurred:\", e)\n",
    "    # except Exception as e:\n",
    "    #     print(\"An unexpected error occurred:\", e)\n",
    "def process(main_folder_path, element):\n",
    "    # Traverse through the main folder\n",
    "    for folder_name in os.listdir(main_folder_path):\n",
    "        folder_path = os.path.join(main_folder_path, folder_name)\n",
    "        claims_folder_path = os.path.join(folder_path, 'claims')\n",
    "        # Check if the 'claims' folder exists\n",
    "        if os.path.exists(claims_folder_path) and os.path.isdir(claims_folder_path):\n",
    "            print(f\"Processing directory: {claims_folder_path}\")\n",
    "            # Process each .txt file in the 'claims' folder\n",
    "            for filename in os.listdir(claims_folder_path):\n",
    "                if filename.endswith('.txt'):\n",
    "                    input_file_path = os.path.join(claims_folder_path, filename)\n",
    "                    output_file_path = os.path.join(claims_folder_path, filename.replace('.txt', '.ttl'))\n",
    "                    print(f\"Created Output file: {output_file_path}\")\n",
    "                    print(f\"Processing file: {input_file_path}\")\n",
    "                    \n",
    "                    run_ontogpt_evidence(input_file_path, element, output_file_path)\n",
    "        else:\n",
    "            print(f\"Skipping {folder_path}, 'claims' folder not found.\")\n",
    "\n",
    "# Usage example\n",
    "\n",
    "main_folder_path = '/EFSA_DOCUMENTATION'  # Path to the main folder\n",
    "element = 'ClaimAnalysis.FoodHealthClaim'\n",
    "process(main_folder_path, element)\n"
   ]
  }
 ],
 "metadata": {
  "kernelspec": {
   "display_name": "Python 3",
   "language": "python",
   "name": "python3"
  },
  "language_info": {
   "codemirror_mode": {
    "name": "ipython",
    "version": 3
   },
   "file_extension": ".py",
   "mimetype": "text/x-python",
   "name": "python",
   "nbconvert_exporter": "python",
   "pygments_lexer": "ipython3",
   "version": "3.9.19"
  }
 },
 "nbformat": 4,
 "nbformat_minor": 2
}
