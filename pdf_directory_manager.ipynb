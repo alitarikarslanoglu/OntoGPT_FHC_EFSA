{
 "cells": [
  {
   "cell_type": "code",
   "execution_count": 1,
   "metadata": {},
   "outputs": [],
   "source": [
    "import os\n",
    "import re\n",
    "import json\n",
    "import shutil\n",
    "import textract\n",
    "import datetime\n",
    "import pandas as pd\n",
    "from tqdm import tqdm\n",
    "from selenium import webdriver\n",
    "import subprocess"
   ]
  },
  {
   "cell_type": "code",
   "execution_count": 2,
   "metadata": {},
   "outputs": [],
   "source": [
    "def driversetup():\n",
    "    options = webdriver.ChromeOptions()\n",
    "    options.add_argument('--headless')\n",
    "    options.add_argument('--no-sandbox')\n",
    "    options.add_argument(\"user-agent=Mozilla/5.0 (Windows NT 10.0; Win64; x64) AppleWebKit/537.36 (KHTML, like Gecko) Chrome/98.0.4758.102 Safari/537.36\")\n",
    "    options.add_argument('--disable-dev-shm-usage')\n",
    "    options.add_argument(\"--disable-blink-features=AutomationControlled\")\n",
    "    options.add_argument(\"lang=en\")\n",
    "    options.add_argument(\"start-maximized\")\n",
    "    options.add_argument(\"disable-infobars\")\n",
    "    options.add_argument('ignore-certificate-errors')\n",
    "    options.add_argument('--ignore-ssl-errors=yes')\n",
    "    options.add_argument(\"--disable-extensions\")\n",
    "    options.add_argument(\"--incognito\")\n",
    "    options.add_argument(\"--disable-blink-features=AutomationControlled\")\n",
    "\n",
    "    driver = webdriver.Chrome(options=options)\n",
    "    return driver\n",
    "def setup_directories(base_dir='pdfs'):\n",
    "    if not os.path.exists(base_dir):\n",
    "        os.makedirs(base_dir)\n",
    "    return base_dir\n",
    "\n",
    "def getpage(url, pdf_dir, pdf_name):\n",
    "    pdf_path = os.path.join(pdf_dir, pdf_name)\n",
    "\n",
    "    if os.path.exists(pdf_path):\n",
    "        print(f'\\tFile skipped, already present. Filename: {pdf_name}')\n",
    "        return pdf_path\n",
    "\n",
    "    driver = driversetup()\n",
    "    driver.get(url)\n",
    "\n",
    "    try:\n",
    "        filename = max([f for f in os.listdir('.') if f.endswith('.pdf')], key=os.path.getctime)\n",
    "        shutil.move(filename, pdf_path)\n",
    "    except Exception as e:\n",
    "        print(f'File failed, refer to the following URL: {url}\\nError: {str(e)}')\n",
    "        driver.quit()\n",
    "        return None\n",
    "\n",
    "    driver.quit()\n",
    "    return pdf_path\n",
    "\n",
    "def main():\n",
    "    output_dir = '/EFSA_DOCUMENTATION'\n",
    "    pdfs_dir = setup_directories(output_dir)\n",
    "\n",
    "    claims = pd.read_excel('data/tree.xlsx')\n",
    "    res = []\n",
    "    for k in range(len(claims['EFSA Opinion Reference'])):\n",
    "        i = claims['EFSA Opinion Reference'][k]\n",
    "        claim = claims['Claim'][k]\n",
    "        if pd.isna(i):\n",
    "            continue\n",
    "        for j in re.split(',', str(i)):\n",
    "            args = re.split(';|:', j)\n",
    "            if len(args) == 3:\n",
    "                res.append({\n",
    "                    'url': 'https://efsa.onlinelibrary.wiley.com/doi/pdf/10.2903/j.efsa.' + args[0].strip() + '.' + args[2].strip(),\n",
    "                    'claim': claim,\n",
    "                    'index': k,\n",
    "                    'args': args\n",
    "                })\n",
    "\n",
    "    for entry in tqdm(res):\n",
    "        url = entry['url']\n",
    "        claim = entry['claim']\n",
    "        idx = entry['index']\n",
    "        pdf_code = entry['args'][0].strip()+\"_\"+entry['args'][2].strip()\n",
    "        \n",
    "        # Directory for this specific PDF document\n",
    "        pdf_dir = os.path.join(pdfs_dir, pdf_code)\n",
    "        check = os.path.join(pdfs_dir,'Claim_Doc')\n",
    "        if not os.path.exists(check):\n",
    "            if not os.path.exists(pdf_dir):\n",
    "                os.makedirs(pdf_dir)\n",
    "        else:\n",
    "            print(f\"Folder for {pdf_code} already exists. Skipping PDF processing.\")\n",
    "\n",
    "        pdf_name = f'{pdf_code}.pdf'\n",
    "        pdf_path = os.path.join(pdf_dir, pdf_name)\n",
    "        \n",
    "        if not os.path.exists(pdf_path):\n",
    "            pdf_path = getpage(url, pdf_dir, pdf_name)"
   ]
  },
  {
   "cell_type": "code",
   "execution_count": 3,
   "metadata": {},
   "outputs": [
    {
     "name": "stderr",
     "output_type": "stream",
     "text": [
      "  6%|▌         | 18/291 [00:35<04:21,  1.04it/s]"
     ]
    },
    {
     "name": "stdout",
     "output_type": "stream",
     "text": [
      "File failed, refer to the following URL: https://efsa.onlinelibrary.wiley.com/doi/pdf/10.2903/j.efsa.2009.1210\n",
      "Error: max() arg is an empty sequence\n"
     ]
    },
    {
     "name": "stderr",
     "output_type": "stream",
     "text": [
      "  9%|▊         | 25/291 [00:45<05:07,  1.16s/it]"
     ]
    },
    {
     "name": "stdout",
     "output_type": "stream",
     "text": [
      "File failed, refer to the following URL: https://efsa.onlinelibrary.wiley.com/doi/pdf/10.2903/j.efsa.2009.1272\n",
      "Error: max() arg is an empty sequence\n"
     ]
    },
    {
     "name": "stderr",
     "output_type": "stream",
     "text": [
      " 18%|█▊        | 52/291 [01:39<08:44,  2.19s/it]"
     ]
    },
    {
     "name": "stdout",
     "output_type": "stream",
     "text": [
      "File failed, refer to the following URL: https://efsa.onlinelibrary.wiley.com/doi/pdf/10.2903/j.efsa.2010.1747\n",
      "Error: max() arg is an empty sequence\n"
     ]
    },
    {
     "name": "stderr",
     "output_type": "stream",
     "text": [
      " 24%|██▍       | 70/291 [02:07<07:13,  1.96s/it]"
     ]
    },
    {
     "name": "stdout",
     "output_type": "stream",
     "text": [
      "File failed, refer to the following URL: https://efsa.onlinelibrary.wiley.com/doi/pdf/10.2903/j.efsa.2011.2078\n",
      "Error: max() arg is an empty sequence\n"
     ]
    },
    {
     "name": "stderr",
     "output_type": "stream",
     "text": [
      " 31%|███       | 90/291 [02:38<04:20,  1.30s/it]"
     ]
    },
    {
     "name": "stdout",
     "output_type": "stream",
     "text": [
      "File failed, refer to the following URL: https://efsa.onlinelibrary.wiley.com/doi/pdf/10.2903/j.efsa.2010.1798\n",
      "Error: max() arg is an empty sequence\n"
     ]
    },
    {
     "name": "stderr",
     "output_type": "stream",
     "text": [
      " 35%|███▍      | 101/291 [02:56<03:57,  1.25s/it]"
     ]
    },
    {
     "name": "stdout",
     "output_type": "stream",
     "text": [
      "File failed, refer to the following URL: https://efsa.onlinelibrary.wiley.com/doi/pdf/10.2903/j.efsa.2009.1215\n",
      "Error: max() arg is an empty sequence\n"
     ]
    },
    {
     "name": "stderr",
     "output_type": "stream",
     "text": [
      " 40%|███▉      | 115/291 [03:20<05:48,  1.98s/it]"
     ]
    },
    {
     "name": "stdout",
     "output_type": "stream",
     "text": [
      "File failed, refer to the following URL: https://efsa.onlinelibrary.wiley.com/doi/pdf/10.2903/j.efsa.2010.1807\n",
      "Error: max() arg is an empty sequence\n"
     ]
    },
    {
     "name": "stderr",
     "output_type": "stream",
     "text": [
      " 47%|████▋     | 136/291 [04:27<16:58,  6.57s/it]"
     ]
    },
    {
     "name": "stdout",
     "output_type": "stream",
     "text": [
      "File failed, refer to the following URL: https://efsa.onlinelibrary.wiley.com/doi/pdf/10.2903/j.efsa.2009.1224\n",
      "Error: max() arg is an empty sequence\n"
     ]
    },
    {
     "name": "stderr",
     "output_type": "stream",
     "text": [
      " 74%|███████▍  | 215/291 [06:34<01:55,  1.51s/it]"
     ]
    },
    {
     "name": "stdout",
     "output_type": "stream",
     "text": [
      "File failed, refer to the following URL: https://efsa.onlinelibrary.wiley.com/doi/pdf/10.2903/j.efsa.2011.2021\n",
      "Error: max() arg is an empty sequence\n"
     ]
    },
    {
     "name": "stderr",
     "output_type": "stream",
     "text": [
      " 75%|███████▍  | 218/291 [06:42<02:20,  1.93s/it]"
     ]
    },
    {
     "name": "stdout",
     "output_type": "stream",
     "text": [
      "File failed, refer to the following URL: https://efsa.onlinelibrary.wiley.com/doi/pdf/10.2903/j.efsa.2010.4114\n",
      "Error: max() arg is an empty sequence\n"
     ]
    },
    {
     "name": "stderr",
     "output_type": "stream",
     "text": [
      " 75%|███████▌  | 219/291 [06:46<02:40,  2.23s/it]"
     ]
    },
    {
     "name": "stdout",
     "output_type": "stream",
     "text": [
      "File failed, refer to the following URL: https://efsa.onlinelibrary.wiley.com/doi/pdf/10.2903/j.efsa.2010.4114\n",
      "Error: max() arg is an empty sequence\n"
     ]
    },
    {
     "name": "stderr",
     "output_type": "stream",
     "text": [
      " 76%|███████▌  | 220/291 [06:52<03:20,  2.82s/it]"
     ]
    },
    {
     "name": "stdout",
     "output_type": "stream",
     "text": [
      "File failed, refer to the following URL: https://efsa.onlinelibrary.wiley.com/doi/pdf/10.2903/j.efsa.2010.4114\n",
      "Error: max() arg is an empty sequence\n"
     ]
    },
    {
     "name": "stderr",
     "output_type": "stream",
     "text": [
      " 77%|███████▋  | 223/291 [06:56<02:29,  2.20s/it]"
     ]
    },
    {
     "name": "stdout",
     "output_type": "stream",
     "text": [
      "File failed, refer to the following URL: https://efsa.onlinelibrary.wiley.com/doi/pdf/10.2903/j.efsa.2010.4114\n",
      "Error: max() arg is an empty sequence\n"
     ]
    },
    {
     "name": "stderr",
     "output_type": "stream",
     "text": [
      " 92%|█████████▏| 268/291 [07:47<00:38,  1.65s/it]"
     ]
    },
    {
     "name": "stdout",
     "output_type": "stream",
     "text": [
      "File failed, refer to the following URL: https://efsa.onlinelibrary.wiley.com/doi/pdf/10.2903/j.efsa.2011.2075\n",
      "Error: max() arg is an empty sequence\n"
     ]
    },
    {
     "name": "stderr",
     "output_type": "stream",
     "text": [
      "100%|██████████| 291/291 [08:01<00:00,  1.66s/it]\n"
     ]
    }
   ],
   "source": [
    "main()"
   ]
  },
  {
   "cell_type": "code",
   "execution_count": null,
   "metadata": {},
   "outputs": [],
   "source": []
  }
 ],
 "metadata": {
  "kernelspec": {
   "display_name": "Python 3",
   "language": "python",
   "name": "python3"
  },
  "language_info": {
   "codemirror_mode": {
    "name": "ipython",
    "version": 3
   },
   "file_extension": ".py",
   "mimetype": "text/x-python",
   "name": "python",
   "nbconvert_exporter": "python",
   "pygments_lexer": "ipython3",
   "version": "3.9.19"
  }
 },
 "nbformat": 4,
 "nbformat_minor": 2
}
