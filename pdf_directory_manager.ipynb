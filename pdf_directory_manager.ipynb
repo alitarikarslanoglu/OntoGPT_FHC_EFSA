{
 "cells": [
  {
   "cell_type": "code",
   "execution_count": 7,
   "metadata": {},
   "outputs": [],
   "source": [
    "import os\n",
    "import re\n",
    "import json\n",
    "import shutil\n",
    "import textract\n",
    "import datetime\n",
    "import pandas as pd\n",
    "from tqdm import tqdm\n",
    "from selenium import webdriver\n",
    "import subprocess"
   ]
  },
  {
   "cell_type": "code",
   "execution_count": 8,
   "metadata": {},
   "outputs": [],
   "source": [
    "\"\"\" \n",
    "Some of the code in this script is based on the following sources:\n",
    "https://colab.research.google.com/drive/1RU0TysCxnoT1sjy3l__DGVdsPWLAG1wT#scrollTo=Yq09i0jnczdi\n",
    "created by Alessandro Corvi\n",
    "\"\"\"\n",
    "def driversetup():\n",
    "    options = webdriver.ChromeOptions()\n",
    "    options.add_argument('--headless')\n",
    "    options.add_argument('--no-sandbox')\n",
    "    options.add_argument(\"user-agent=Mozilla/5.0 (Windows NT 10.0; Win64; x64) AppleWebKit/537.36 (KHTML, like Gecko) Chrome/98.0.4758.102 Safari/537.36\")\n",
    "    options.add_argument('--disable-dev-shm-usage')\n",
    "    options.add_argument(\"--disable-blink-features=AutomationControlled\")\n",
    "    options.add_argument(\"lang=en\")\n",
    "    options.add_argument(\"start-maximized\")\n",
    "    options.add_argument(\"disable-infobars\")\n",
    "    options.add_argument('ignore-certificate-errors')\n",
    "    options.add_argument('--ignore-ssl-errors=yes')\n",
    "    options.add_argument(\"--disable-extensions\")\n",
    "    options.add_argument(\"--incognito\")\n",
    "    options.add_argument(\"--disable-blink-features=AutomationControlled\")\n",
    "\n",
    "    driver = webdriver.Chrome(options=options)\n",
    "    return driver\n",
    "def setup_directories(base_dir='pdfs'):\n",
    "    if not os.path.exists(base_dir):\n",
    "        os.makedirs(base_dir)\n",
    "    return base_dir\n",
    "\n",
    "def getpage(url, pdf_dir, pdf_name):\n",
    "    pdf_path = os.path.join(pdf_dir, pdf_name)\n",
    "\n",
    "    if os.path.exists(pdf_path):\n",
    "        print(f'\\tFile skipped, already present. Filename: {pdf_name}')\n",
    "        return pdf_path\n",
    "\n",
    "    driver = driversetup()\n",
    "    driver.get(url)\n",
    "\n",
    "    try:\n",
    "        filename = max([f for f in os.listdir('.') if f.endswith('.pdf')], key=os.path.getctime)\n",
    "        shutil.move(filename, pdf_path)\n",
    "    except Exception as e:\n",
    "        print(f'File failed, refer to the following URL: {url}\\nError: {str(e)}')\n",
    "        driver.quit()\n",
    "        return None\n",
    "\n",
    "    driver.quit()\n",
    "    return pdf_path\n",
    "\n",
    "def main():\n",
    "    output_dir = 'RootDirectoryOfPatentData'\n",
    "    pdfs_dir = setup_directories(output_dir)\n",
    "\n",
    "    claims = pd.read_excel('data/tree.xlsx')\n",
    "    res = []\n",
    "    for k in range(len(claims['EFSA Opinion Reference'])):\n",
    "        i = claims['EFSA Opinion Reference'][k]\n",
    "        claim = claims['Claim'][k]\n",
    "        if pd.isna(i):\n",
    "            continue\n",
    "        for j in re.split(',', str(i)):\n",
    "            args = re.split(';|:', j)\n",
    "            if len(args) == 3:\n",
    "                res.append({\n",
    "                    'url': 'https://efsa.onlinelibrary.wiley.com/doi/pdf/10.2903/j.efsa.' + args[0].strip() + '.' + args[2].strip(),\n",
    "                    'claim': claim,\n",
    "                    'index': k,\n",
    "                    'args': args\n",
    "                })\n",
    "\n",
    "    for entry in tqdm(res):\n",
    "        url = entry['url']\n",
    "        claim = entry['claim']\n",
    "        idx = entry['index']\n",
    "        pdf_code = entry['args'][0].strip()+\"_\"+entry['args'][2].strip()\n",
    "        \n",
    "        # Directory for this specific PDF document\n",
    "        pdf_dir = os.path.join(pdfs_dir, pdf_code)\n",
    "        check = os.path.join(pdfs_dir,'Claim_Doc')\n",
    "        if not os.path.exists(check):\n",
    "            if not os.path.exists(pdf_dir):\n",
    "                os.makedirs(pdf_dir)\n",
    "        else:\n",
    "            print(f\"Folder for {pdf_code} already exists. Skipping PDF processing.\")\n",
    "\n",
    "        pdf_name = f'{pdf_code}.pdf'\n",
    "        pdf_path = os.path.join(pdf_dir, pdf_name)\n",
    "        \n",
    "        if not os.path.exists(pdf_path):\n",
    "            pdf_path = getpage(url, pdf_dir, pdf_name)"
   ]
  },
  {
   "cell_type": "code",
   "execution_count": 9,
   "metadata": {},
   "outputs": [
    {
     "name": "stderr",
     "output_type": "stream",
     "text": [
      "  1%|          | 3/291 [00:15<22:44,  4.74s/it]"
     ]
    },
    {
     "name": "stdout",
     "output_type": "stream",
     "text": [
      "File failed, refer to the following URL: https://efsa.onlinelibrary.wiley.com/doi/pdf/10.2903/j.efsa.2011.2049\n",
      "Error: max() arg is an empty sequence\n"
     ]
    },
    {
     "name": "stderr",
     "output_type": "stream",
     "text": [
      " 12%|█▏        | 35/291 [01:01<06:52,  1.61s/it]"
     ]
    },
    {
     "name": "stdout",
     "output_type": "stream",
     "text": [
      "File failed, refer to the following URL: https://efsa.onlinelibrary.wiley.com/doi/pdf/10.2903/j.efsa.2010.1764\n",
      "Error: max() arg is an empty sequence\n"
     ]
    },
    {
     "name": "stderr",
     "output_type": "stream",
     "text": [
      " 15%|█▌        | 44/291 [01:16<07:51,  1.91s/it]"
     ]
    },
    {
     "name": "stdout",
     "output_type": "stream",
     "text": [
      "File failed, refer to the following URL: https://efsa.onlinelibrary.wiley.com/doi/pdf/10.2903/j.efsa.2012.2713\n",
      "Error: max() arg is an empty sequence\n"
     ]
    },
    {
     "name": "stderr",
     "output_type": "stream",
     "text": [
      " 18%|█▊        | 52/291 [01:33<07:19,  1.84s/it]"
     ]
    },
    {
     "name": "stdout",
     "output_type": "stream",
     "text": [
      "File failed, refer to the following URL: https://efsa.onlinelibrary.wiley.com/doi/pdf/10.2903/j.efsa.2010.1747\n",
      "Error: max() arg is an empty sequence\n"
     ]
    },
    {
     "name": "stderr",
     "output_type": "stream",
     "text": [
      " 18%|█▊        | 53/291 [01:35<07:42,  1.94s/it]"
     ]
    },
    {
     "name": "stdout",
     "output_type": "stream",
     "text": [
      "File failed, refer to the following URL: https://efsa.onlinelibrary.wiley.com/doi/pdf/10.2903/j.efsa.2009.1211\n",
      "Error: max() arg is an empty sequence\n"
     ]
    },
    {
     "name": "stderr",
     "output_type": "stream",
     "text": [
      " 19%|█▊        | 54/291 [01:37<07:29,  1.90s/it]"
     ]
    },
    {
     "name": "stdout",
     "output_type": "stream",
     "text": [
      "File failed, refer to the following URL: https://efsa.onlinelibrary.wiley.com/doi/pdf/10.2903/j.efsa.2009.1211\n",
      "Error: max() arg is an empty sequence\n"
     ]
    },
    {
     "name": "stderr",
     "output_type": "stream",
     "text": [
      " 19%|█▉        | 55/291 [01:40<08:33,  2.17s/it]"
     ]
    },
    {
     "name": "stdout",
     "output_type": "stream",
     "text": [
      "File failed, refer to the following URL: https://efsa.onlinelibrary.wiley.com/doi/pdf/10.2903/j.efsa.2011.2079\n",
      "Error: max() arg is an empty sequence\n"
     ]
    },
    {
     "name": "stderr",
     "output_type": "stream",
     "text": [
      " 22%|██▏       | 65/291 [01:52<04:31,  1.20s/it]"
     ]
    },
    {
     "name": "stdout",
     "output_type": "stream",
     "text": [
      "File failed, refer to the following URL: https://efsa.onlinelibrary.wiley.com/doi/pdf/10.2903/j.efsa.2009.1263\n",
      "Error: max() arg is an empty sequence\n"
     ]
    },
    {
     "name": "stderr",
     "output_type": "stream",
     "text": [
      " 25%|██▌       | 74/291 [02:09<05:01,  1.39s/it]"
     ]
    },
    {
     "name": "stdout",
     "output_type": "stream",
     "text": [
      "File failed, refer to the following URL: https://efsa.onlinelibrary.wiley.com/doi/pdf/10.2903/j.efsa.2010.1486\n",
      "Error: max() arg is an empty sequence\n"
     ]
    },
    {
     "name": "stderr",
     "output_type": "stream",
     "text": [
      " 27%|██▋       | 79/291 [02:21<06:28,  1.83s/it]"
     ]
    },
    {
     "name": "stdout",
     "output_type": "stream",
     "text": [
      "File failed, refer to the following URL: https://efsa.onlinelibrary.wiley.com/doi/pdf/10.2903/j.efsa.2010.1797\n",
      "Error: max() arg is an empty sequence\n"
     ]
    },
    {
     "name": "stderr",
     "output_type": "stream",
     "text": [
      " 27%|██▋       | 80/291 [02:23<06:41,  1.90s/it]"
     ]
    },
    {
     "name": "stdout",
     "output_type": "stream",
     "text": [
      "File failed, refer to the following URL: https://efsa.onlinelibrary.wiley.com/doi/pdf/10.2903/j.efsa.2009.1213\n",
      "Error: max() arg is an empty sequence\n"
     ]
    },
    {
     "name": "stderr",
     "output_type": "stream",
     "text": [
      " 28%|██▊       | 81/291 [02:25<06:56,  1.98s/it]"
     ]
    },
    {
     "name": "stdout",
     "output_type": "stream",
     "text": [
      "File failed, refer to the following URL: https://efsa.onlinelibrary.wiley.com/doi/pdf/10.2903/j.efsa.2010.1760\n",
      "Error: max() arg is an empty sequence\n"
     ]
    },
    {
     "name": "stderr",
     "output_type": "stream",
     "text": [
      " 29%|██▉       | 84/291 [02:31<06:35,  1.91s/it]"
     ]
    },
    {
     "name": "stdout",
     "output_type": "stream",
     "text": [
      "File failed, refer to the following URL: https://efsa.onlinelibrary.wiley.com/doi/pdf/10.2903/j.efsa.2010.1760\n",
      "Error: max() arg is an empty sequence\n"
     ]
    },
    {
     "name": "stderr",
     "output_type": "stream",
     "text": [
      " 31%|███       | 89/291 [02:39<05:33,  1.65s/it]"
     ]
    },
    {
     "name": "stdout",
     "output_type": "stream",
     "text": [
      "File failed, refer to the following URL: https://efsa.onlinelibrary.wiley.com/doi/pdf/10.2903/j.efsa.2009.1258\n",
      "Error: max() arg is an empty sequence\n"
     ]
    },
    {
     "name": "stderr",
     "output_type": "stream",
     "text": [
      " 32%|███▏      | 92/291 [02:45<05:33,  1.68s/it]"
     ]
    },
    {
     "name": "stdout",
     "output_type": "stream",
     "text": [
      "File failed, refer to the following URL: https://efsa.onlinelibrary.wiley.com/doi/pdf/10.2903/j.efsa.2010.1464\n",
      "Error: max() arg is an empty sequence\n"
     ]
    },
    {
     "name": "stderr",
     "output_type": "stream",
     "text": [
      " 33%|███▎      | 95/291 [02:50<05:37,  1.72s/it]"
     ]
    },
    {
     "name": "stdout",
     "output_type": "stream",
     "text": [
      "File failed, refer to the following URL: https://efsa.onlinelibrary.wiley.com/doi/pdf/10.2903/j.efsa.2009.1214\n",
      "Error: max() arg is an empty sequence\n"
     ]
    },
    {
     "name": "stderr",
     "output_type": "stream",
     "text": [
      " 34%|███▎      | 98/291 [02:54<04:41,  1.46s/it]"
     ]
    },
    {
     "name": "stdout",
     "output_type": "stream",
     "text": [
      "File failed, refer to the following URL: https://efsa.onlinelibrary.wiley.com/doi/pdf/10.2903/j.efsa.2009.1214\n",
      "Error: max() arg is an empty sequence\n"
     ]
    },
    {
     "name": "stderr",
     "output_type": "stream",
     "text": [
      " 38%|███▊      | 111/291 [03:05<02:11,  1.37it/s]"
     ]
    },
    {
     "name": "stdout",
     "output_type": "stream",
     "text": [
      "File failed, refer to the following URL: https://efsa.onlinelibrary.wiley.com/doi/pdf/10.2903/j.efsa.2009.1236\n",
      "Error: max() arg is an empty sequence\n"
     ]
    },
    {
     "name": "stderr",
     "output_type": "stream",
     "text": [
      " 39%|███▉      | 114/291 [03:12<03:29,  1.19s/it]"
     ]
    },
    {
     "name": "stdout",
     "output_type": "stream",
     "text": [
      "File failed, refer to the following URL: https://efsa.onlinelibrary.wiley.com/doi/pdf/10.2903/j.efsa.2010.1763\n",
      "Error: max() arg is an empty sequence\n"
     ]
    },
    {
     "name": "stderr",
     "output_type": "stream",
     "text": [
      " 44%|████▎     | 127/291 [03:25<02:42,  1.01it/s]"
     ]
    },
    {
     "name": "stdout",
     "output_type": "stream",
     "text": [
      "File failed, refer to the following URL: https://efsa.onlinelibrary.wiley.com/doi/pdf/10.2903/j.efsa.2010.1808\n",
      "Error: max() arg is an empty sequence\n"
     ]
    },
    {
     "name": "stderr",
     "output_type": "stream",
     "text": [
      " 46%|████▌     | 134/291 [03:42<05:16,  2.02s/it]"
     ]
    },
    {
     "name": "stdout",
     "output_type": "stream",
     "text": [
      "File failed, refer to the following URL: https://efsa.onlinelibrary.wiley.com/doi/pdf/10.2903/j.efsa.2010.1745\n",
      "Error: max() arg is an empty sequence\n"
     ]
    },
    {
     "name": "stderr",
     "output_type": "stream",
     "text": [
      " 46%|████▋     | 135/291 [03:44<05:19,  2.05s/it]"
     ]
    },
    {
     "name": "stdout",
     "output_type": "stream",
     "text": [
      "File failed, refer to the following URL: https://efsa.onlinelibrary.wiley.com/doi/pdf/10.2903/j.efsa.2011.2304\n",
      "Error: max() arg is an empty sequence\n"
     ]
    },
    {
     "name": "stderr",
     "output_type": "stream",
     "text": [
      " 47%|████▋     | 136/291 [03:48<06:19,  2.45s/it]"
     ]
    },
    {
     "name": "stdout",
     "output_type": "stream",
     "text": [
      "File failed, refer to the following URL: https://efsa.onlinelibrary.wiley.com/doi/pdf/10.2903/j.efsa.2009.1224\n",
      "Error: max() arg is an empty sequence\n"
     ]
    },
    {
     "name": "stderr",
     "output_type": "stream",
     "text": [
      " 47%|████▋     | 138/291 [03:54<06:34,  2.58s/it]"
     ]
    },
    {
     "name": "stdout",
     "output_type": "stream",
     "text": [
      "File failed, refer to the following URL: https://efsa.onlinelibrary.wiley.com/doi/pdf/10.2903/j.efsa.2009.1224\n",
      "Error: max() arg is an empty sequence\n"
     ]
    },
    {
     "name": "stderr",
     "output_type": "stream",
     "text": [
      " 51%|█████     | 147/291 [04:03<02:57,  1.24s/it]"
     ]
    },
    {
     "name": "stdout",
     "output_type": "stream",
     "text": [
      "File failed, refer to the following URL: https://efsa.onlinelibrary.wiley.com/doi/pdf/10.2903/j.efsa.2009.1218\n",
      "Error: max() arg is an empty sequence\n"
     ]
    },
    {
     "name": "stderr",
     "output_type": "stream",
     "text": [
      " 52%|█████▏    | 152/291 [04:11<03:08,  1.36s/it]"
     ]
    },
    {
     "name": "stdout",
     "output_type": "stream",
     "text": [
      "File failed, refer to the following URL: https://efsa.onlinelibrary.wiley.com/doi/pdf/10.2903/j.efsa.2010.1747\n",
      "Error: max() arg is an empty sequence\n"
     ]
    },
    {
     "name": "stderr",
     "output_type": "stream",
     "text": [
      " 54%|█████▍    | 158/291 [04:19<02:44,  1.24s/it]"
     ]
    },
    {
     "name": "stdout",
     "output_type": "stream",
     "text": [
      "File failed, refer to the following URL: https://efsa.onlinelibrary.wiley.com/doi/pdf/10.2903/j.efsa.2010.1813\n",
      "Error: max() arg is an empty sequence\n"
     ]
    },
    {
     "name": "stderr",
     "output_type": "stream",
     "text": [
      " 56%|█████▌    | 163/291 [04:25<02:35,  1.22s/it]"
     ]
    },
    {
     "name": "stdout",
     "output_type": "stream",
     "text": [
      "File failed, refer to the following URL: https://efsa.onlinelibrary.wiley.com/doi/pdf/10.2903/j.efsa.2010.1811\n",
      "Error: max() arg is an empty sequence\n"
     ]
    },
    {
     "name": "stderr",
     "output_type": "stream",
     "text": [
      " 57%|█████▋    | 165/291 [04:28<02:27,  1.17s/it]"
     ]
    },
    {
     "name": "stdout",
     "output_type": "stream",
     "text": [
      "File failed, refer to the following URL: https://efsa.onlinelibrary.wiley.com/doi/pdf/10.2903/j.efsa.2010.1811\n",
      "Error: max() arg is an empty sequence\n"
     ]
    },
    {
     "name": "stderr",
     "output_type": "stream",
     "text": [
      " 59%|█████▉    | 172/291 [04:46<04:41,  2.37s/it]"
     ]
    },
    {
     "name": "stdout",
     "output_type": "stream",
     "text": [
      "File failed, refer to the following URL: https://efsa.onlinelibrary.wiley.com/doi/pdf/10.2903/j.efsa.2011.2043\n",
      "Error: max() arg is an empty sequence\n"
     ]
    },
    {
     "name": "stderr",
     "output_type": "stream",
     "text": [
      " 60%|██████    | 175/291 [04:53<04:08,  2.14s/it]"
     ]
    },
    {
     "name": "stdout",
     "output_type": "stream",
     "text": [
      "File failed, refer to the following URL: https://efsa.onlinelibrary.wiley.com/doi/pdf/10.2903/j.efsa.2010.1814\n",
      "Error: max() arg is an empty sequence\n"
     ]
    },
    {
     "name": "stderr",
     "output_type": "stream",
     "text": [
      " 64%|██████▎   | 185/291 [05:08<02:46,  1.57s/it]"
     ]
    },
    {
     "name": "stdout",
     "output_type": "stream",
     "text": [
      "File failed, refer to the following URL: https://efsa.onlinelibrary.wiley.com/doi/pdf/10.2903/j.efsa.2009.1220\n",
      "Error: max() arg is an empty sequence\n"
     ]
    },
    {
     "name": "stderr",
     "output_type": "stream",
     "text": [
      " 64%|██████▍   | 186/291 [05:09<02:50,  1.62s/it]"
     ]
    },
    {
     "name": "stdout",
     "output_type": "stream",
     "text": [
      "File failed, refer to the following URL: https://efsa.onlinelibrary.wiley.com/doi/pdf/10.2903/j.efsa.2010.1727\n",
      "Error: max() arg is an empty sequence\n"
     ]
    },
    {
     "name": "stderr",
     "output_type": "stream",
     "text": [
      " 65%|██████▍   | 188/291 [05:15<03:23,  1.97s/it]"
     ]
    },
    {
     "name": "stdout",
     "output_type": "stream",
     "text": [
      "File failed, refer to the following URL: https://efsa.onlinelibrary.wiley.com/doi/pdf/10.2903/j.efsa.2009.1220\n",
      "Error: max() arg is an empty sequence\n"
     ]
    },
    {
     "name": "stderr",
     "output_type": "stream",
     "text": [
      " 65%|██████▌   | 190/291 [05:17<02:41,  1.59s/it]"
     ]
    },
    {
     "name": "stdout",
     "output_type": "stream",
     "text": [
      "File failed, refer to the following URL: https://efsa.onlinelibrary.wiley.com/doi/pdf/10.2903/j.efsa.2009.1220\n",
      "Error: max() arg is an empty sequence\n"
     ]
    },
    {
     "name": "stderr",
     "output_type": "stream",
     "text": [
      " 68%|██████▊   | 197/291 [05:30<02:45,  1.76s/it]"
     ]
    },
    {
     "name": "stdout",
     "output_type": "stream",
     "text": [
      "File failed, refer to the following URL: https://efsa.onlinelibrary.wiley.com/doi/pdf/10.2903/j.efsa.2011.2072\n",
      "Error: max() arg is an empty sequence\n"
     ]
    },
    {
     "name": "stderr",
     "output_type": "stream",
     "text": [
      " 71%|███████   | 207/291 [05:46<02:10,  1.56s/it]"
     ]
    },
    {
     "name": "stdout",
     "output_type": "stream",
     "text": [
      "File failed, refer to the following URL: https://efsa.onlinelibrary.wiley.com/doi/pdf/10.2903/j.efsa.2009.1221\n",
      "Error: max() arg is an empty sequence\n"
     ]
    },
    {
     "name": "stderr",
     "output_type": "stream",
     "text": [
      " 71%|███████▏  | 208/291 [05:48<02:13,  1.60s/it]"
     ]
    },
    {
     "name": "stdout",
     "output_type": "stream",
     "text": [
      "File failed, refer to the following URL: https://efsa.onlinelibrary.wiley.com/doi/pdf/10.2903/j.efsa.2009.1221\n",
      "Error: max() arg is an empty sequence\n"
     ]
    },
    {
     "name": "stderr",
     "output_type": "stream",
     "text": [
      " 72%|███████▏  | 209/291 [05:50<02:15,  1.65s/it]"
     ]
    },
    {
     "name": "stdout",
     "output_type": "stream",
     "text": [
      "File failed, refer to the following URL: https://efsa.onlinelibrary.wiley.com/doi/pdf/10.2903/j.efsa.2010.1754\n",
      "Error: max() arg is an empty sequence\n"
     ]
    },
    {
     "name": "stderr",
     "output_type": "stream",
     "text": [
      " 74%|███████▍  | 215/291 [05:59<01:42,  1.35s/it]"
     ]
    },
    {
     "name": "stdout",
     "output_type": "stream",
     "text": [
      "File failed, refer to the following URL: https://efsa.onlinelibrary.wiley.com/doi/pdf/10.2903/j.efsa.2011.2021\n",
      "Error: max() arg is an empty sequence\n"
     ]
    },
    {
     "name": "stderr",
     "output_type": "stream",
     "text": [
      " 75%|███████▍  | 218/291 [06:06<02:08,  1.77s/it]"
     ]
    },
    {
     "name": "stdout",
     "output_type": "stream",
     "text": [
      "File failed, refer to the following URL: https://efsa.onlinelibrary.wiley.com/doi/pdf/10.2903/j.efsa.2010.4114\n",
      "Error: max() arg is an empty sequence\n"
     ]
    },
    {
     "name": "stderr",
     "output_type": "stream",
     "text": [
      " 75%|███████▌  | 219/291 [06:10<02:34,  2.15s/it]"
     ]
    },
    {
     "name": "stdout",
     "output_type": "stream",
     "text": [
      "File failed, refer to the following URL: https://efsa.onlinelibrary.wiley.com/doi/pdf/10.2903/j.efsa.2010.4114\n",
      "Error: max() arg is an empty sequence\n"
     ]
    },
    {
     "name": "stderr",
     "output_type": "stream",
     "text": [
      " 76%|███████▌  | 220/291 [06:11<02:24,  2.04s/it]"
     ]
    },
    {
     "name": "stdout",
     "output_type": "stream",
     "text": [
      "File failed, refer to the following URL: https://efsa.onlinelibrary.wiley.com/doi/pdf/10.2903/j.efsa.2010.4114\n",
      "Error: max() arg is an empty sequence\n"
     ]
    },
    {
     "name": "stderr",
     "output_type": "stream",
     "text": [
      " 77%|███████▋  | 223/291 [06:15<01:50,  1.63s/it]"
     ]
    },
    {
     "name": "stdout",
     "output_type": "stream",
     "text": [
      "File failed, refer to the following URL: https://efsa.onlinelibrary.wiley.com/doi/pdf/10.2903/j.efsa.2010.4114\n",
      "Error: max() arg is an empty sequence\n"
     ]
    },
    {
     "name": "stderr",
     "output_type": "stream",
     "text": [
      " 78%|███████▊  | 228/291 [06:23<01:42,  1.63s/it]"
     ]
    },
    {
     "name": "stdout",
     "output_type": "stream",
     "text": [
      "File failed, refer to the following URL: https://efsa.onlinelibrary.wiley.com/doi/pdf/10.2903/j.efsa.2009.1225\n",
      "Error: max() arg is an empty sequence\n"
     ]
    },
    {
     "name": "stderr",
     "output_type": "stream",
     "text": [
      " 87%|████████▋ | 254/291 [06:36<00:16,  2.20it/s]"
     ]
    },
    {
     "name": "stdout",
     "output_type": "stream",
     "text": [
      "File failed, refer to the following URL: https://efsa.onlinelibrary.wiley.com/doi/pdf/10.2903/j.efsa.2009.1227\n",
      "Error: max() arg is an empty sequence\n"
     ]
    },
    {
     "name": "stderr",
     "output_type": "stream",
     "text": [
      " 89%|████████▉ | 260/291 [06:41<00:17,  1.76it/s]"
     ]
    },
    {
     "name": "stdout",
     "output_type": "stream",
     "text": [
      "File failed, refer to the following URL: https://efsa.onlinelibrary.wiley.com/doi/pdf/10.2903/j.efsa.2010.1468\n",
      "Error: max() arg is an empty sequence\n"
     ]
    },
    {
     "name": "stderr",
     "output_type": "stream",
     "text": [
      " 90%|█████████ | 262/291 [06:43<00:17,  1.63it/s]"
     ]
    },
    {
     "name": "stdout",
     "output_type": "stream",
     "text": [
      "File failed, refer to the following URL: https://efsa.onlinelibrary.wiley.com/doi/pdf/10.2903/j.efsa.2010.1468\n",
      "Error: max() arg is an empty sequence\n"
     ]
    },
    {
     "name": "stderr",
     "output_type": "stream",
     "text": [
      " 92%|█████████▏| 267/291 [06:52<00:25,  1.08s/it]"
     ]
    },
    {
     "name": "stdout",
     "output_type": "stream",
     "text": [
      "File failed, refer to the following URL: https://efsa.onlinelibrary.wiley.com/doi/pdf/10.2903/j.efsa.2011.2074\n",
      "Error: max() arg is an empty sequence\n"
     ]
    },
    {
     "name": "stderr",
     "output_type": "stream",
     "text": [
      " 93%|█████████▎| 272/291 [07:00<00:24,  1.30s/it]"
     ]
    },
    {
     "name": "stdout",
     "output_type": "stream",
     "text": [
      "File failed, refer to the following URL: https://efsa.onlinelibrary.wiley.com/doi/pdf/10.2903/j.efsa.2009.1229\n",
      "Error: max() arg is an empty sequence\n"
     ]
    },
    {
     "name": "stderr",
     "output_type": "stream",
     "text": [
      "100%|██████████| 291/291 [07:07<00:00,  1.47s/it]\n"
     ]
    }
   ],
   "source": [
    "main()"
   ]
  },
  {
   "cell_type": "code",
   "execution_count": null,
   "metadata": {},
   "outputs": [],
   "source": []
  }
 ],
 "metadata": {
  "kernelspec": {
   "display_name": "Python 3",
   "language": "python",
   "name": "python3"
  },
  "language_info": {
   "codemirror_mode": {
    "name": "ipython",
    "version": 3
   },
   "file_extension": ".py",
   "mimetype": "text/x-python",
   "name": "python",
   "nbconvert_exporter": "python",
   "pygments_lexer": "ipython3",
   "version": "3.9.19"
  }
 },
 "nbformat": 4,
 "nbformat_minor": 2
}
