{
 "cells": [
  {
   "cell_type": "code",
   "execution_count": 2,
   "metadata": {},
   "outputs": [],
   "source": [
    "import os\n",
    "import re\n",
    "import json\n",
    "import shutil\n",
    "import textract\n",
    "import datetime\n",
    "import pandas as pd\n",
    "from tqdm import tqdm\n",
    "from selenium import webdriver\n",
    "import subprocess"
   ]
  },
  {
   "cell_type": "code",
   "execution_count": 33,
   "metadata": {},
   "outputs": [
    {
     "name": "stdout",
     "output_type": "stream",
     "text": [
      "mkdir: data: File exists\n"
     ]
    },
    {
     "name": "stdout",
     "output_type": "stream",
     "text": [
      "Downloading...\n",
      "From: https://drive.google.com/uc?id=1Xgb7GwakWa_wEiOAeiFz-sUg8Uo0NO3F\n",
      "To: /Users/AliTarik/OntoGPT_FHC_EFSA/data/tree.xlsx\n",
      "100%|████████████████████████████████████████| 541k/541k [00:00<00:00, 19.8MB/s]\n"
     ]
    }
   ],
   "source": [
    "!mkdir data\n",
    "!mkdir pdfs\n",
    "!gdown 1Xgb7GwakWa_wEiOAeiFz-sUg8Uo0NO3F -O data/tree.xlsx\n",
    "!rm -r pdfs"
   ]
  },
  {
   "cell_type": "code",
   "execution_count": 69,
   "metadata": {},
   "outputs": [],
   "source": [
    "claims = pd.read_excel('data/tree.xlsx')"
   ]
  },
  {
   "cell_type": "code",
   "execution_count": 70,
   "metadata": {},
   "outputs": [],
   "source": [
    "claims = claims.drop(index=0)"
   ]
  },
  {
   "cell_type": "code",
   "execution_count": 71,
   "metadata": {},
   "outputs": [],
   "source": [
    "columns_to_keep = ['EFSA Opinion Reference','Food',\n",
    "       'Target population',\n",
    "       'Phenotype',\n",
    "       'Supporting Evidence Reference 1',\n",
    "       'Supporting Evidence Reference 2',\n",
    "       'Supporting Evidence Reference 3',\n",
    "       'Supporting Evidence Reference 4',\n",
    "       'Supporting Evidence Reference',\n",
    "       'Supporting Evidence Reference 5',\n",
    "       'Supporting Evidence Reference 6',\n",
    "       'Supporting Evidence Reference 7',\n",
    "       'Supporting Evidence Reference 8',\n",
    "       'Supporting Evidence Reference 9']\n",
    "claims = claims[columns_to_keep]"
   ]
  },
  {
   "cell_type": "code",
   "execution_count": 72,
   "metadata": {},
   "outputs": [],
   "source": [
    "last_10 = claims.iloc[:,-10:]\n",
    "claims['References'] = last_10.apply(lambda row: '|'.join(row.dropna().values.astype(str)), axis=1)\n",
    "claims = claims.drop(claims.columns[-11:-1], axis=1)\n",
    "claims['EFSA Opinion Reference'] = claims['EFSA Opinion Reference'].astype(str)\n",
    "claims['Food'] = claims['Food'].astype(str)"
   ]
  },
  {
   "cell_type": "code",
   "execution_count": 73,
   "metadata": {},
   "outputs": [],
   "source": [
    "claims['EFSA Opinion Reference'] = claims['EFSA Opinion Reference'].str.split(',')\n",
    "claims = claims.explode('EFSA Opinion Reference')"
   ]
  },
  {
   "cell_type": "code",
   "execution_count": 74,
   "metadata": {},
   "outputs": [
    {
     "data": {
      "text/html": [
       "<div>\n",
       "<style scoped>\n",
       "    .dataframe tbody tr th:only-of-type {\n",
       "        vertical-align: middle;\n",
       "    }\n",
       "\n",
       "    .dataframe tbody tr th {\n",
       "        vertical-align: top;\n",
       "    }\n",
       "\n",
       "    .dataframe thead th {\n",
       "        text-align: right;\n",
       "    }\n",
       "</style>\n",
       "<table border=\"1\" class=\"dataframe\">\n",
       "  <thead>\n",
       "    <tr style=\"text-align: right;\">\n",
       "      <th></th>\n",
       "      <th>EFSA Opinion Reference</th>\n",
       "      <th>Food</th>\n",
       "      <th>Target population</th>\n",
       "      <th>Phenotype</th>\n",
       "      <th>References</th>\n",
       "    </tr>\n",
       "  </thead>\n",
       "  <tbody>\n",
       "    <tr>\n",
       "      <th>1</th>\n",
       "      <td>2009;7(9):1252</td>\n",
       "      <td>Alpha-linolenic acid (ALA)</td>\n",
       "      <td>General population</td>\n",
       "      <td>Normal blood cholesterol</td>\n",
       "      <td>Mensink et al. (2003): 10.1093/ajcn/77.5.1146;...</td>\n",
       "    </tr>\n",
       "    <tr>\n",
       "      <th>1</th>\n",
       "      <td>2011;9(6):2203</td>\n",
       "      <td>Alpha-linolenic acid (ALA)</td>\n",
       "      <td>General population</td>\n",
       "      <td>Normal blood cholesterol</td>\n",
       "      <td>Mensink et al. (2003): 10.1093/ajcn/77.5.1146;...</td>\n",
       "    </tr>\n",
       "    <tr>\n",
       "      <th>2</th>\n",
       "      <td>2011;9(4):2049</td>\n",
       "      <td>Activated charcoal</td>\n",
       "      <td>General population</td>\n",
       "      <td>Excessive flatulence</td>\n",
       "      <td>Jain et al. (1986a): PMID 3521259|Jain et al (...</td>\n",
       "    </tr>\n",
       "    <tr>\n",
       "      <th>3</th>\n",
       "      <td>2011;9(6):2249</td>\n",
       "      <td>Barley grain fibre</td>\n",
       "      <td>General population</td>\n",
       "      <td>Increase in faecal bulk</td>\n",
       "      <td>Cummings et al. (2001): 10.1093/ajcn/73.2.415s</td>\n",
       "    </tr>\n",
       "    <tr>\n",
       "      <th>4</th>\n",
       "      <td>2009;7(9):1254</td>\n",
       "      <td>Beta-glucans</td>\n",
       "      <td>Adults with normal or mildly elevated blood ch...</td>\n",
       "      <td>Normal blood cholesterol</td>\n",
       "      <td>Ripsin et al. (1992): 10.1001/jama.1992.034802...</td>\n",
       "    </tr>\n",
       "  </tbody>\n",
       "</table>\n",
       "</div>"
      ],
      "text/plain": [
       "  EFSA Opinion Reference                        Food  \\\n",
       "1         2009;7(9):1252  Alpha-linolenic acid (ALA)   \n",
       "1         2011;9(6):2203  Alpha-linolenic acid (ALA)   \n",
       "2         2011;9(4):2049          Activated charcoal   \n",
       "3         2011;9(6):2249          Barley grain fibre   \n",
       "4         2009;7(9):1254                Beta-glucans   \n",
       "\n",
       "                                   Target population  \\\n",
       "1                                 General population   \n",
       "1                                 General population   \n",
       "2                                 General population   \n",
       "3                                 General population   \n",
       "4  Adults with normal or mildly elevated blood ch...   \n",
       "\n",
       "                  Phenotype                                         References  \n",
       "1  Normal blood cholesterol  Mensink et al. (2003): 10.1093/ajcn/77.5.1146;...  \n",
       "1  Normal blood cholesterol  Mensink et al. (2003): 10.1093/ajcn/77.5.1146;...  \n",
       "2      Excessive flatulence  Jain et al. (1986a): PMID 3521259|Jain et al (...  \n",
       "3   Increase in faecal bulk     Cummings et al. (2001): 10.1093/ajcn/73.2.415s  \n",
       "4  Normal blood cholesterol  Ripsin et al. (1992): 10.1001/jama.1992.034802...  "
      ]
     },
     "execution_count": 74,
     "metadata": {},
     "output_type": "execute_result"
    }
   ],
   "source": [
    "claims.head()"
   ]
  },
  {
   "cell_type": "code",
   "execution_count": 75,
   "metadata": {},
   "outputs": [],
   "source": [
    "def process_efsa_reference(ref):\n",
    "    parts = ref.split(';')\n",
    "    if len(parts) < 2:\n",
    "        return ref\n",
    "    first_part = parts[0]\n",
    "    second_parts = parts[1].split(':')\n",
    "    if len(second_parts) < 2:\n",
    "        return ref\n",
    "    second_part = second_parts[1]\n",
    "    return f\"{first_part}_{second_part}\"\n",
    "\n",
    "def process_references(ref):\n",
    "    citations = []\n",
    "    dois = []\n",
    "    for part in ref.split(';'):\n",
    "        subparts = part.split(':')\n",
    "        if len(subparts) == 2:\n",
    "            citations.append(subparts[0].strip())\n",
    "            dois.append(subparts[1].strip())\n",
    "    return pd.Series([','.join(citations), ','.join(dois)])\n",
    "def remove_parentheses(text):\n",
    "    return pd.Series(text).str.replace(r'\\(.*?\\)', '', regex=True).str.strip()"
   ]
  },
  {
   "cell_type": "code",
   "execution_count": 76,
   "metadata": {},
   "outputs": [
    {
     "data": {
      "text/html": [
       "<div>\n",
       "<style scoped>\n",
       "    .dataframe tbody tr th:only-of-type {\n",
       "        vertical-align: middle;\n",
       "    }\n",
       "\n",
       "    .dataframe tbody tr th {\n",
       "        vertical-align: top;\n",
       "    }\n",
       "\n",
       "    .dataframe thead th {\n",
       "        text-align: right;\n",
       "    }\n",
       "</style>\n",
       "<table border=\"1\" class=\"dataframe\">\n",
       "  <thead>\n",
       "    <tr style=\"text-align: right;\">\n",
       "      <th></th>\n",
       "      <th>EFSA Opinion Reference</th>\n",
       "      <th>Food</th>\n",
       "      <th>Target population</th>\n",
       "      <th>Phenotype</th>\n",
       "      <th>Citations</th>\n",
       "      <th>DOI</th>\n",
       "    </tr>\n",
       "  </thead>\n",
       "  <tbody>\n",
       "    <tr>\n",
       "      <th>1</th>\n",
       "      <td>2009_1252</td>\n",
       "      <td>Alpha-linolenic acid</td>\n",
       "      <td>General population</td>\n",
       "      <td>Normal blood cholesterol</td>\n",
       "      <td>Mensink et al. (2003),Mantzioris et al. (1994)...</td>\n",
       "      <td>10.1093/ajcn/77.5.1146,10.1093/ajcn/59.6.1304,...</td>\n",
       "    </tr>\n",
       "    <tr>\n",
       "      <th>1</th>\n",
       "      <td>2011_2203</td>\n",
       "      <td>Alpha-linolenic acid</td>\n",
       "      <td>General population</td>\n",
       "      <td>Normal blood cholesterol</td>\n",
       "      <td>Mensink et al. (2003),Mantzioris et al. (1994)...</td>\n",
       "      <td>10.1093/ajcn/77.5.1146,10.1093/ajcn/59.6.1304,...</td>\n",
       "    </tr>\n",
       "    <tr>\n",
       "      <th>2</th>\n",
       "      <td>2011_2049</td>\n",
       "      <td>Activated charcoal</td>\n",
       "      <td>General population</td>\n",
       "      <td>Excessive flatulence</td>\n",
       "      <td></td>\n",
       "      <td></td>\n",
       "    </tr>\n",
       "    <tr>\n",
       "      <th>3</th>\n",
       "      <td>2011_2249</td>\n",
       "      <td>Barley grain fibre</td>\n",
       "      <td>General population</td>\n",
       "      <td>Increase in faecal bulk</td>\n",
       "      <td>Cummings et al. (2001)</td>\n",
       "      <td>10.1093/ajcn/73.2.415s</td>\n",
       "    </tr>\n",
       "    <tr>\n",
       "      <th>4</th>\n",
       "      <td>2009_1254</td>\n",
       "      <td>Beta-glucans</td>\n",
       "      <td>Adults with normal or mildly elevated blood ch...</td>\n",
       "      <td>Normal blood cholesterol</td>\n",
       "      <td>Ripsin et al. (1992),Brown et al. (1999),Karma...</td>\n",
       "      <td>10.1001/jama.1992.03480240079039,10.1093/ajcn/...</td>\n",
       "    </tr>\n",
       "  </tbody>\n",
       "</table>\n",
       "</div>"
      ],
      "text/plain": [
       "  EFSA Opinion Reference                  Food  \\\n",
       "1              2009_1252  Alpha-linolenic acid   \n",
       "1              2011_2203  Alpha-linolenic acid   \n",
       "2              2011_2049    Activated charcoal   \n",
       "3              2011_2249    Barley grain fibre   \n",
       "4              2009_1254          Beta-glucans   \n",
       "\n",
       "                                   Target population  \\\n",
       "1                                 General population   \n",
       "1                                 General population   \n",
       "2                                 General population   \n",
       "3                                 General population   \n",
       "4  Adults with normal or mildly elevated blood ch...   \n",
       "\n",
       "                  Phenotype  \\\n",
       "1  Normal blood cholesterol   \n",
       "1  Normal blood cholesterol   \n",
       "2      Excessive flatulence   \n",
       "3   Increase in faecal bulk   \n",
       "4  Normal blood cholesterol   \n",
       "\n",
       "                                           Citations  \\\n",
       "1  Mensink et al. (2003),Mantzioris et al. (1994)...   \n",
       "1  Mensink et al. (2003),Mantzioris et al. (1994)...   \n",
       "2                                                      \n",
       "3                             Cummings et al. (2001)   \n",
       "4  Ripsin et al. (1992),Brown et al. (1999),Karma...   \n",
       "\n",
       "                                                 DOI  \n",
       "1  10.1093/ajcn/77.5.1146,10.1093/ajcn/59.6.1304,...  \n",
       "1  10.1093/ajcn/77.5.1146,10.1093/ajcn/59.6.1304,...  \n",
       "2                                                     \n",
       "3                             10.1093/ajcn/73.2.415s  \n",
       "4  10.1001/jama.1992.03480240079039,10.1093/ajcn/...  "
      ]
     },
     "execution_count": 76,
     "metadata": {},
     "output_type": "execute_result"
    }
   ],
   "source": [
    "claims['EFSA Opinion Reference'] = claims['EFSA Opinion Reference'].apply(process_efsa_reference)\n",
    "claims[['Citations', 'DOI']] = claims['References'].apply(process_references)\n",
    "claims = claims.drop(columns=['References'])\n",
    "claims['Food'] = claims['Food'].apply(remove_parentheses)\n",
    "claims.head()"
   ]
  },
  {
   "cell_type": "code",
   "execution_count": 79,
   "metadata": {},
   "outputs": [],
   "source": [
    "json_dict = {}\n",
    "for index, row in claims.iterrows():\n",
    "    key = row[\"EFSA Opinion Reference\"]\n",
    "    json_dict[key] = {\n",
    "        \"Food\": row[\"Food\"],\n",
    "        \"Target_population\": row[\"Target population\"],\n",
    "        \"Phenotype\": row[\"Phenotype\"],\n",
    "        \"Citations\": row[\"Citations\"],\n",
    "        \"DOI\": row[\"DOI\"]\n",
    "    }\n",
    "\n",
    "\n",
    "json_str = json.dumps(json_dict, indent=4)\n",
    "\n",
    "directory = \"/Users/AliTarik/OntoGPT_FHC_EFSA\"\n",
    "file_name = \"data.json\"\n",
    "file_path = os.path.join(directory, file_name)\n",
    "os.makedirs(directory, exist_ok=True)\n",
    "\n",
    "with open(file_path, \"w\") as json_file:\n",
    "    json_file.write(json_str)\n"
   ]
  },
  {
   "cell_type": "code",
   "execution_count": null,
   "metadata": {},
   "outputs": [],
   "source": []
  }
 ],
 "metadata": {
  "kernelspec": {
   "display_name": "Python 3",
   "language": "python",
   "name": "python3"
  },
  "language_info": {
   "codemirror_mode": {
    "name": "ipython",
    "version": 3
   },
   "file_extension": ".py",
   "mimetype": "text/x-python",
   "name": "python",
   "nbconvert_exporter": "python",
   "pygments_lexer": "ipython3",
   "version": "3.9.19"
  }
 },
 "nbformat": 4,
 "nbformat_minor": 2
}
